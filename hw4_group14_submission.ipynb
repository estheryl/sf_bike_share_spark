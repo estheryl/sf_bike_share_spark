{
 "cells": [
  {
   "cell_type": "code",
   "execution_count": 1,
   "metadata": {},
   "outputs": [
    {
     "data": {
      "application/vnd.jupyter.widget-view+json": {
       "model_id": "",
       "version_major": 2,
       "version_minor": 0
      },
      "text/plain": [
       "VBox()"
      ]
     },
     "metadata": {},
     "output_type": "display_data"
    },
    {
     "name": "stdout",
     "output_type": "stream",
     "text": [
      "Starting Spark application\n"
     ]
    },
    {
     "data": {
      "text/html": [
       "<table>\n",
       "<tr><th>ID</th><th>YARN Application ID</th><th>Kind</th><th>State</th><th>Spark UI</th><th>Driver log</th><th>Current session?</th></tr><tr><td>0</td><td>application_1579133582147_0001</td><td>pyspark</td><td>idle</td><td><a target=\"_blank\" href=\"http://ip-172-31-3-62.us-west-1.compute.internal:20888/proxy/application_1579133582147_0001/\">Link</a></td><td><a target=\"_blank\" href=\"http://ip-172-31-10-25.us-west-1.compute.internal:8042/node/containerlogs/container_1579133582147_0001_01_000001/livy\">Link</a></td><td>✔</td></tr></table>"
      ],
      "text/plain": [
       "<IPython.core.display.HTML object>"
      ]
     },
     "metadata": {},
     "output_type": "display_data"
    },
    {
     "data": {
      "application/vnd.jupyter.widget-view+json": {
       "model_id": "",
       "version_major": 2,
       "version_minor": 0
      },
      "text/plain": [
       "FloatProgress(value=0.0, bar_style='info', description='Progress:', layout=Layout(height='25px', width='50%'),…"
      ]
     },
     "metadata": {},
     "output_type": "display_data"
    },
    {
     "name": "stdout",
     "output_type": "stream",
     "text": [
      "SparkSession available as 'spark'.\n"
     ]
    },
    {
     "data": {
      "application/vnd.jupyter.widget-view+json": {
       "model_id": "",
       "version_major": 2,
       "version_minor": 0
      },
      "text/plain": [
       "FloatProgress(value=0.0, bar_style='info', description='Progress:', layout=Layout(height='25px', width='50%'),…"
      ]
     },
     "metadata": {},
     "output_type": "display_data"
    }
   ],
   "source": [
    "from pyspark import SparkContext\n",
    "from datetime import datetime\n",
    "from dateutil.parser import parse\n",
    "from pyspark.sql.functions import udf, to_date, to_utc_timestamp\n",
    "import numpy as np"
   ]
  },
  {
   "cell_type": "code",
   "execution_count": 2,
   "metadata": {},
   "outputs": [
    {
     "data": {
      "application/vnd.jupyter.widget-view+json": {
       "model_id": "",
       "version_major": 2,
       "version_minor": 0
      },
      "text/plain": [
       "VBox()"
      ]
     },
     "metadata": {},
     "output_type": "display_data"
    },
    {
     "data": {
      "application/vnd.jupyter.widget-view+json": {
       "model_id": "",
       "version_major": 2,
       "version_minor": 0
      },
      "text/plain": [
       "FloatProgress(value=0.0, bar_style='info', description='Progress:', layout=Layout(height='25px', width='50%'),…"
      ]
     },
     "metadata": {},
     "output_type": "display_data"
    }
   ],
   "source": [
    "from pyspark.sql import SparkSession\n",
    "from pyspark.sql import Row\n",
    "from pyspark.sql.types import *\n",
    "\n",
    "\n",
    "from pyspark.ml.feature import VectorAssembler\n",
    "from pyspark.ml.evaluation import MulticlassClassificationEvaluator\n",
    "from pyspark.ml.classification import GBTClassifier\n",
    "\n",
    "\n",
    "ss = SparkSession.builder.getOrCreate()"
   ]
  },
  {
   "cell_type": "code",
   "execution_count": 3,
   "metadata": {},
   "outputs": [
    {
     "data": {
      "application/vnd.jupyter.widget-view+json": {
       "model_id": "",
       "version_major": 2,
       "version_minor": 0
      },
      "text/plain": [
       "VBox()"
      ]
     },
     "metadata": {},
     "output_type": "display_data"
    },
    {
     "data": {
      "application/vnd.jupyter.widget-view+json": {
       "model_id": "",
       "version_major": 2,
       "version_minor": 0
      },
      "text/plain": [
       "FloatProgress(value=0.0, bar_style='info', description='Progress:', layout=Layout(height='25px', width='50%'),…"
      ]
     },
     "metadata": {},
     "output_type": "display_data"
    }
   ],
   "source": [
    "from pyspark.sql import SQLContext\n",
    "from pyspark.sql.types import *\n",
    "from pyspark.sql.functions import *"
   ]
  },
  {
   "cell_type": "code",
   "execution_count": 5,
   "metadata": {},
   "outputs": [
    {
     "data": {
      "application/vnd.jupyter.widget-view+json": {
       "model_id": "3df6602972f34c6c9c826d30fc524d2b",
       "version_major": 2,
       "version_minor": 0
      },
      "text/plain": [
       "VBox()"
      ]
     },
     "metadata": {},
     "output_type": "display_data"
    },
    {
     "data": {
      "application/vnd.jupyter.widget-view+json": {
       "model_id": "",
       "version_major": 2,
       "version_minor": 0
      },
      "text/plain": [
       "FloatProgress(value=0.0, bar_style='info', description='Progress:', layout=Layout(height='25px', width='50%'),…"
      ]
     },
     "metadata": {},
     "output_type": "display_data"
    }
   ],
   "source": [
    "station_path = 's3://msds694.proj/data/station.csv'\n",
    "status_path = 's3://msds694.proj/data/status.csv'\n",
    "trip_path = 's3://msds694.proj/data/trip.csv'\n",
    "weather_path = 's3://msds694.proj/data/weather.csv'\n",
    "population_path = 's3://msds694.proj/data/station_population.csv'"
   ]
  },
  {
   "cell_type": "code",
   "execution_count": 5,
   "metadata": {},
   "outputs": [
    {
     "data": {
      "application/vnd.jupyter.widget-view+json": {
       "model_id": "f7f7dc6d45944cfcb9b206dcb9413141",
       "version_major": 2,
       "version_minor": 0
      },
      "text/plain": [
       "VBox()"
      ]
     },
     "metadata": {},
     "output_type": "display_data"
    },
    {
     "data": {
      "application/vnd.jupyter.widget-view+json": {
       "model_id": "",
       "version_major": 2,
       "version_minor": 0
      },
      "text/plain": [
       "FloatProgress(value=0.0, bar_style='info', description='Progress:', layout=Layout(height='25px', width='50%'),…"
      ]
     },
     "metadata": {},
     "output_type": "display_data"
    }
   ],
   "source": [
    "station_population=ss.read.csv(population_path,header=True)"
   ]
  },
  {
   "cell_type": "code",
   "execution_count": 7,
   "metadata": {},
   "outputs": [
    {
     "data": {
      "application/vnd.jupyter.widget-view+json": {
       "model_id": "a394fea7e4c2420887119e24784d5fcd",
       "version_major": 2,
       "version_minor": 0
      },
      "text/plain": [
       "VBox()"
      ]
     },
     "metadata": {},
     "output_type": "display_data"
    },
    {
     "data": {
      "application/vnd.jupyter.widget-view+json": {
       "model_id": "",
       "version_major": 2,
       "version_minor": 0
      },
      "text/plain": [
       "FloatProgress(value=0.0, bar_style='info', description='Progress:', layout=Layout(height='25px', width='50%'),…"
      ]
     },
     "metadata": {},
     "output_type": "display_data"
    },
    {
     "name": "stdout",
     "output_type": "stream",
     "text": [
      "+---+--------------------+---------+----------+----------+--------+-----------------+----+----+\n",
      "| id|                name|      lat|      long|dock_count|    city|installation_date| _c7| _c8|\n",
      "+---+--------------------+---------+----------+----------+--------+-----------------+----+----+\n",
      "|  2|San Jose Diridon ...|37.329732|-121.90178|        27|San Jose|           8/6/13|null|null|\n",
      "|  3|San Jose Civic Ce...|37.330698|-121.88898|        15|San Jose|           8/5/13|null|null|\n",
      "|  4|Santa Clara at Al...|37.333988| -121.8949|        11|San Jose|           8/6/13|null|null|\n",
      "|  5|    Adobe on Almaden|37.331415| -121.8932|        19|San Jose|           8/5/13|null|null|\n",
      "|  6|    San Pedro Square|37.336721|-121.89407|        15|San Jose|           8/7/13|null|null|\n",
      "+---+--------------------+---------+----------+----------+--------+-----------------+----+----+\n",
      "only showing top 5 rows"
     ]
    }
   ],
   "source": [
    "station_population.cache().show(5)"
   ]
  },
  {
   "cell_type": "code",
   "execution_count": 8,
   "metadata": {
    "scrolled": true
   },
   "outputs": [
    {
     "data": {
      "application/vnd.jupyter.widget-view+json": {
       "model_id": "a257a066cef649f99b7598ab2f7e649f",
       "version_major": 2,
       "version_minor": 0
      },
      "text/plain": [
       "VBox()"
      ]
     },
     "metadata": {},
     "output_type": "display_data"
    },
    {
     "data": {
      "application/vnd.jupyter.widget-view+json": {
       "model_id": "",
       "version_major": 2,
       "version_minor": 0
      },
      "text/plain": [
       "FloatProgress(value=0.0, bar_style='info', description='Progress:', layout=Layout(height='25px', width='50%'),…"
      ]
     },
     "metadata": {},
     "output_type": "display_data"
    },
    {
     "name": "stdout",
     "output_type": "stream",
     "text": [
      "+----------+---------------+---------------+-------------------+\n",
      "|station_id|bikes_available|docks_available|               time|\n",
      "+----------+---------------+---------------+-------------------+\n",
      "|         2|              2|             25|2013/08/29 12:06:01|\n",
      "|         2|              2|             25|2013/08/29 12:07:01|\n",
      "|         2|              2|             25|2013/08/29 12:08:01|\n",
      "|         2|              2|             25|2013/08/29 12:09:01|\n",
      "|         2|              2|             25|2013/08/29 12:10:01|\n",
      "+----------+---------------+---------------+-------------------+\n",
      "only showing top 5 rows"
     ]
    }
   ],
   "source": [
    "status=ss.read.csv(status_path,header=True)\n",
    "status.show(5)"
   ]
  },
  {
   "cell_type": "code",
   "execution_count": 9,
   "metadata": {},
   "outputs": [
    {
     "data": {
      "application/vnd.jupyter.widget-view+json": {
       "model_id": "f6fba93bf9a64af9a82192dc0f0f0cbb",
       "version_major": 2,
       "version_minor": 0
      },
      "text/plain": [
       "VBox()"
      ]
     },
     "metadata": {},
     "output_type": "display_data"
    },
    {
     "data": {
      "application/vnd.jupyter.widget-view+json": {
       "model_id": "",
       "version_major": 2,
       "version_minor": 0
      },
      "text/plain": [
       "FloatProgress(value=0.0, bar_style='info', description='Progress:', layout=Layout(height='25px', width='50%'),…"
      ]
     },
     "metadata": {},
     "output_type": "display_data"
    }
   ],
   "source": [
    "status_rdd = sc.textFile(status_path)\n",
    "weather_rdd = sc.textFile(weather_path)"
   ]
  },
  {
   "cell_type": "code",
   "execution_count": 10,
   "metadata": {},
   "outputs": [
    {
     "data": {
      "application/vnd.jupyter.widget-view+json": {
       "model_id": "a3dcd59b19884214ad6b1a82d50e1c4f",
       "version_major": 2,
       "version_minor": 0
      },
      "text/plain": [
       "VBox()"
      ]
     },
     "metadata": {},
     "output_type": "display_data"
    },
    {
     "data": {
      "application/vnd.jupyter.widget-view+json": {
       "model_id": "",
       "version_major": 2,
       "version_minor": 0
      },
      "text/plain": [
       "FloatProgress(value=0.0, bar_style='info', description='Progress:', layout=Layout(height='25px', width='50%'),…"
      ]
     },
     "metadata": {},
     "output_type": "display_data"
    }
   ],
   "source": [
    "STATION_ID = 0\n",
    "BIKES_AVAILABLE = 1\n",
    "DOCKS_AVAILABLE = 2\n",
    "TIME = 3"
   ]
  },
  {
   "cell_type": "code",
   "execution_count": 11,
   "metadata": {},
   "outputs": [
    {
     "data": {
      "application/vnd.jupyter.widget-view+json": {
       "model_id": "72e5a20aecde424d99977144ef2ef219",
       "version_major": 2,
       "version_minor": 0
      },
      "text/plain": [
       "VBox()"
      ]
     },
     "metadata": {},
     "output_type": "display_data"
    },
    {
     "data": {
      "application/vnd.jupyter.widget-view+json": {
       "model_id": "",
       "version_major": 2,
       "version_minor": 0
      },
      "text/plain": [
       "FloatProgress(value=0.0, bar_style='info', description='Progress:', layout=Layout(height='25px', width='50%'),…"
      ]
     },
     "metadata": {},
     "output_type": "display_data"
    }
   ],
   "source": [
    "def change_col(x,col_num,func,**kwargs):\n",
    "    x[col_num] = func(x[col_num],**kwargs)\n",
    "    return x\n",
    "\n",
    "# def makekey(x,*args):\n",
    "#     key = tuple([item for idx,item in enumerate(x) if idx in args])\n",
    "#     return (key,x)\n",
    "\n",
    "# def flatten(x,iterations=1):\n",
    "    \n",
    "#     return sum(x[1])"
   ]
  },
  {
   "cell_type": "code",
   "execution_count": 39,
   "metadata": {},
   "outputs": [
    {
     "data": {
      "application/vnd.jupyter.widget-view+json": {
       "model_id": "0969331e9d1343e5ba30df1a1fed5b6f",
       "version_major": 2,
       "version_minor": 0
      },
      "text/plain": [
       "VBox()"
      ]
     },
     "metadata": {},
     "output_type": "display_data"
    },
    {
     "data": {
      "application/vnd.jupyter.widget-view+json": {
       "model_id": "",
       "version_major": 2,
       "version_minor": 0
      },
      "text/plain": [
       "FloatProgress(value=0.0, bar_style='info', description='Progress:', layout=Layout(height='25px', width='50%'),…"
      ]
     },
     "metadata": {},
     "output_type": "display_data"
    },
    {
     "name": "stdout",
     "output_type": "stream",
     "text": [
      "['station_id,bikes_available,docks_available,time', '2,2,25,2013/08/29 12:06:01']"
     ]
    }
   ],
   "source": [
    "status_rdd.cache().take(2)"
   ]
  },
  {
   "cell_type": "code",
   "execution_count": 13,
   "metadata": {},
   "outputs": [
    {
     "data": {
      "application/vnd.jupyter.widget-view+json": {
       "model_id": "d0b1192a5a0b4511a3ebe2dbc4687ed3",
       "version_major": 2,
       "version_minor": 0
      },
      "text/plain": [
       "VBox()"
      ]
     },
     "metadata": {},
     "output_type": "display_data"
    },
    {
     "data": {
      "application/vnd.jupyter.widget-view+json": {
       "model_id": "",
       "version_major": 2,
       "version_minor": 0
      },
      "text/plain": [
       "FloatProgress(value=0.0, bar_style='info', description='Progress:', layout=Layout(height='25px', width='50%'),…"
      ]
     },
     "metadata": {},
     "output_type": "display_data"
    }
   ],
   "source": [
    "status_rdd_processed = (status_rdd.filter(lambda x: not x.startswith('station_id'))\n",
    "                                  .map(lambda x:x.split(','))\n",
    "                                  .map(lambda x:x[:TIME]+[x[TIME].replace('/','-')])\n",
    "                                  .map(lambda x: change_col(x,TIME,parse))\n",
    "                                  .map(lambda x:x+[datetime(x[TIME].year,x[TIME].month,x[TIME].day,x[TIME].hour)]\n",
    "                                       +[x[TIME].hour]))"
   ]
  },
  {
   "cell_type": "code",
   "execution_count": 70,
   "metadata": {},
   "outputs": [
    {
     "data": {
      "application/vnd.jupyter.widget-view+json": {
       "model_id": "4a47ed30c7354a76805414dba6deacd4",
       "version_major": 2,
       "version_minor": 0
      },
      "text/plain": [
       "VBox()"
      ]
     },
     "metadata": {},
     "output_type": "display_data"
    },
    {
     "data": {
      "application/vnd.jupyter.widget-view+json": {
       "model_id": "",
       "version_major": 2,
       "version_minor": 0
      },
      "text/plain": [
       "FloatProgress(value=0.0, bar_style='info', description='Progress:', layout=Layout(height='25px', width='50%'),…"
      ]
     },
     "metadata": {},
     "output_type": "display_data"
    }
   ],
   "source": [
    "def toDoubleSafe(v):\n",
    "    try:\n",
    "        return float(v)\n",
    "    except ValueError:\n",
    "        return float(0)"
   ]
  },
  {
   "cell_type": "code",
   "execution_count": 71,
   "metadata": {},
   "outputs": [
    {
     "data": {
      "application/vnd.jupyter.widget-view+json": {
       "model_id": "5c8c015fcff3468090bea0afa27e5078",
       "version_major": 2,
       "version_minor": 0
      },
      "text/plain": [
       "VBox()"
      ]
     },
     "metadata": {},
     "output_type": "display_data"
    },
    {
     "data": {
      "application/vnd.jupyter.widget-view+json": {
       "model_id": "",
       "version_major": 2,
       "version_minor": 0
      },
      "text/plain": [
       "FloatProgress(value=0.0, bar_style='info', description='Progress:', layout=Layout(height='25px', width='50%'),…"
      ]
     },
     "metadata": {},
     "output_type": "display_data"
    },
    {
     "name": "stdout",
     "output_type": "stream",
     "text": [
      "[[datetime.datetime(2013, 8, 29, 0, 0), 68.0, 0.0], [datetime.datetime(2013, 8, 30, 0, 0), 69.0, 0.0], [datetime.datetime(2013, 8, 31, 0, 0), 64.0, 0.0]]"
     ]
    }
   ],
   "source": [
    "weather_rdd = sc.textFile(weather_path, 4)\\\n",
    "            .filter(lambda x: not x.startswith('date'))\\\n",
    "                                  .map(lambda x:x.split(','))\\\n",
    "                                  .map(lambda x:[x[0],toDoubleSafe(x[2]),toDoubleSafe(x[19])])\\\n",
    "                                  .map(lambda x: change_col(x,0,parse))#.map(lambda x:[x[0]]+[float(x[2])])\n",
    "weather_rdd.take(3)\n"
   ]
  },
  {
   "cell_type": "code",
   "execution_count": 72,
   "metadata": {
    "scrolled": true
   },
   "outputs": [
    {
     "data": {
      "application/vnd.jupyter.widget-view+json": {
       "model_id": "58279a70661841eb80f22a357d253b7a",
       "version_major": 2,
       "version_minor": 0
      },
      "text/plain": [
       "VBox()"
      ]
     },
     "metadata": {},
     "output_type": "display_data"
    },
    {
     "data": {
      "application/vnd.jupyter.widget-view+json": {
       "model_id": "",
       "version_major": 2,
       "version_minor": 0
      },
      "text/plain": [
       "FloatProgress(value=0.0, bar_style='info', description='Progress:', layout=Layout(height='25px', width='50%'),…"
      ]
     },
     "metadata": {},
     "output_type": "display_data"
    },
    {
     "name": "stdout",
     "output_type": "stream",
     "text": [
      "+----------+---------+---------------+\n",
      "|      date|mean_temp|rain_identifier|\n",
      "+----------+---------+---------------+\n",
      "|2013-08-29|     68.0|            0.0|\n",
      "|2013-08-30|     69.0|            0.0|\n",
      "|2013-08-31|     64.0|            0.0|\n",
      "+----------+---------+---------------+\n",
      "only showing top 3 rows"
     ]
    }
   ],
   "source": [
    "weather_schema = StructType([\n",
    "    StructField(\"date\",DateType(),False),\n",
    "    StructField(\"mean_temp\",FloatType(),False),\n",
    "    StructField(\"rain_identifier\",FloatType(),False)])\n",
    "    \n",
    "weather_df = ss.createDataFrame(weather_rdd, schema=weather_schema)\n",
    "weather_df.show(3)\n",
    "# weather_df.count()"
   ]
  },
  {
   "cell_type": "code",
   "execution_count": 136,
   "metadata": {},
   "outputs": [
    {
     "data": {
      "application/vnd.jupyter.widget-view+json": {
       "model_id": "c6f4eaa34c6b4200804df24597e23b9e",
       "version_major": 2,
       "version_minor": 0
      },
      "text/plain": [
       "VBox()"
      ]
     },
     "metadata": {},
     "output_type": "display_data"
    },
    {
     "data": {
      "application/vnd.jupyter.widget-view+json": {
       "model_id": "",
       "version_major": 2,
       "version_minor": 0
      },
      "text/plain": [
       "FloatProgress(value=0.0, bar_style='info', description='Progress:', layout=Layout(height='25px', width='50%'),…"
      ]
     },
     "metadata": {},
     "output_type": "display_data"
    }
   ],
   "source": [
    "weather_df_processed = weather_df.select(weather_df.date.cast(StringType()).alias('date'),\n",
    "                                        weather_df.mean_temp.cast(DoubleType()).alias('temp_float'),\n",
    "                                        weather_df.rain_identifier.cast(DoubleType()).alias('rain_level_float'))\n"
   ]
  },
  {
   "cell_type": "code",
   "execution_count": 137,
   "metadata": {},
   "outputs": [
    {
     "data": {
      "application/vnd.jupyter.widget-view+json": {
       "model_id": "78171b57943d48a0b66a11894c0378d6",
       "version_major": 2,
       "version_minor": 0
      },
      "text/plain": [
       "VBox()"
      ]
     },
     "metadata": {},
     "output_type": "display_data"
    },
    {
     "data": {
      "application/vnd.jupyter.widget-view+json": {
       "model_id": "",
       "version_major": 2,
       "version_minor": 0
      },
      "text/plain": [
       "FloatProgress(value=0.0, bar_style='info', description='Progress:', layout=Layout(height='25px', width='50%'),…"
      ]
     },
     "metadata": {},
     "output_type": "display_data"
    },
    {
     "name": "stdout",
     "output_type": "stream",
     "text": [
      "+----------+----------+--------------------+\n",
      "|      date|temp_float|    rain_level_float|\n",
      "+----------+----------+--------------------+\n",
      "|2014-02-16|      56.0|0.021999999508261682|\n",
      "|2014-02-22|      56.4|                 0.0|\n",
      "|2014-12-13|      50.4|0.003999999910593033|\n",
      "|2015-05-01|      54.2|                 0.0|\n",
      "|2014-05-27|      63.0|                 0.0|\n",
      "+----------+----------+--------------------+\n",
      "only showing top 5 rows"
     ]
    }
   ],
   "source": [
    "weather_df_processed = weather_df_processed.groupBy('date').agg(mean('temp_float'),mean('rain_level_float'))\n",
    "weather_df_processed = weather_df_processed.withColumnRenamed('avg(temp_float)','temp_float').withColumnRenamed('avg(rain_level_float)','rain_level_float')\n",
    "weather_df_processed.show(5)"
   ]
  },
  {
   "cell_type": "code",
   "execution_count": 138,
   "metadata": {},
   "outputs": [
    {
     "data": {
      "application/vnd.jupyter.widget-view+json": {
       "model_id": "55aec4b108354a1990ad9d6c084891b9",
       "version_major": 2,
       "version_minor": 0
      },
      "text/plain": [
       "VBox()"
      ]
     },
     "metadata": {},
     "output_type": "display_data"
    },
    {
     "data": {
      "application/vnd.jupyter.widget-view+json": {
       "model_id": "",
       "version_major": 2,
       "version_minor": 0
      },
      "text/plain": [
       "FloatProgress(value=0.0, bar_style='info', description='Progress:', layout=Layout(height='25px', width='50%'),…"
      ]
     },
     "metadata": {},
     "output_type": "display_data"
    }
   ],
   "source": [
    "from pyspark.sql.functions import mean as _mean, stddev as _stddev, col\n",
    "\n",
    "weather_df_stats = weather_df_processed.select(\n",
    "    _mean(col('rain_level_float')).alias('mean')\n",
    ").collect()"
   ]
  },
  {
   "cell_type": "code",
   "execution_count": 139,
   "metadata": {},
   "outputs": [
    {
     "data": {
      "application/vnd.jupyter.widget-view+json": {
       "model_id": "697c1a3b5d884c90a2bf86f447f9dd56",
       "version_major": 2,
       "version_minor": 0
      },
      "text/plain": [
       "VBox()"
      ]
     },
     "metadata": {},
     "output_type": "display_data"
    },
    {
     "data": {
      "application/vnd.jupyter.widget-view+json": {
       "model_id": "",
       "version_major": 2,
       "version_minor": 0
      },
      "text/plain": [
       "FloatProgress(value=0.0, bar_style='info', description='Progress:', layout=Layout(height='25px', width='50%'),…"
      ]
     },
     "metadata": {},
     "output_type": "display_data"
    },
    {
     "name": "stdout",
     "output_type": "stream",
     "text": [
      "0.020120054476298548"
     ]
    }
   ],
   "source": [
    "mean_rain = weather_df_stats[0][0]\n",
    "mean_rain"
   ]
  },
  {
   "cell_type": "code",
   "execution_count": 140,
   "metadata": {},
   "outputs": [
    {
     "data": {
      "application/vnd.jupyter.widget-view+json": {
       "model_id": "5d52b469e4fa47dabff76efd9ce5cda0",
       "version_major": 2,
       "version_minor": 0
      },
      "text/plain": [
       "VBox()"
      ]
     },
     "metadata": {},
     "output_type": "display_data"
    },
    {
     "data": {
      "application/vnd.jupyter.widget-view+json": {
       "model_id": "",
       "version_major": 2,
       "version_minor": 0
      },
      "text/plain": [
       "FloatProgress(value=0.0, bar_style='info', description='Progress:', layout=Layout(height='25px', width='50%'),…"
      ]
     },
     "metadata": {},
     "output_type": "display_data"
    }
   ],
   "source": [
    "from pyspark.sql.functions import *\n",
    "check_rain = udf(lambda x: x > mean_rain)"
   ]
  },
  {
   "cell_type": "code",
   "execution_count": 141,
   "metadata": {},
   "outputs": [
    {
     "data": {
      "application/vnd.jupyter.widget-view+json": {
       "model_id": "2364533822614cc38188d23ba31b9e49",
       "version_major": 2,
       "version_minor": 0
      },
      "text/plain": [
       "VBox()"
      ]
     },
     "metadata": {},
     "output_type": "display_data"
    },
    {
     "data": {
      "application/vnd.jupyter.widget-view+json": {
       "model_id": "",
       "version_major": 2,
       "version_minor": 0
      },
      "text/plain": [
       "FloatProgress(value=0.0, bar_style='info', description='Progress:', layout=Layout(height='25px', width='50%'),…"
      ]
     },
     "metadata": {},
     "output_type": "display_data"
    }
   ],
   "source": [
    "weather_df_processed = weather_df_processed.select('date', 'temp_float', check_rain('rain_level_float') \\\n",
    "                                            .alias('rain_identifier'))"
   ]
  },
  {
   "cell_type": "code",
   "execution_count": 142,
   "metadata": {},
   "outputs": [
    {
     "data": {
      "application/vnd.jupyter.widget-view+json": {
       "model_id": "ceb233c4808249c2955e91860659b4a3",
       "version_major": 2,
       "version_minor": 0
      },
      "text/plain": [
       "VBox()"
      ]
     },
     "metadata": {},
     "output_type": "display_data"
    },
    {
     "data": {
      "application/vnd.jupyter.widget-view+json": {
       "model_id": "",
       "version_major": 2,
       "version_minor": 0
      },
      "text/plain": [
       "FloatProgress(value=0.0, bar_style='info', description='Progress:', layout=Layout(height='25px', width='50%'),…"
      ]
     },
     "metadata": {},
     "output_type": "display_data"
    },
    {
     "name": "stdout",
     "output_type": "stream",
     "text": [
      "DataFrame[summary: string, date: string, temp_float: string, rain_identifier: string]"
     ]
    }
   ],
   "source": [
    "weather_df_processed.summary()"
   ]
  },
  {
   "cell_type": "code",
   "execution_count": null,
   "metadata": {},
   "outputs": [],
   "source": []
  },
  {
   "cell_type": "code",
   "execution_count": null,
   "metadata": {},
   "outputs": [],
   "source": []
  },
  {
   "cell_type": "code",
   "execution_count": null,
   "metadata": {},
   "outputs": [],
   "source": []
  },
  {
   "cell_type": "code",
   "execution_count": 40,
   "metadata": {},
   "outputs": [
    {
     "data": {
      "application/vnd.jupyter.widget-view+json": {
       "model_id": "1d1d8c78b2754152bf5c21ad02fcf11a",
       "version_major": 2,
       "version_minor": 0
      },
      "text/plain": [
       "VBox()"
      ]
     },
     "metadata": {},
     "output_type": "display_data"
    },
    {
     "data": {
      "application/vnd.jupyter.widget-view+json": {
       "model_id": "",
       "version_major": 2,
       "version_minor": 0
      },
      "text/plain": [
       "FloatProgress(value=0.0, bar_style='info', description='Progress:', layout=Layout(height='25px', width='50%'),…"
      ]
     },
     "metadata": {},
     "output_type": "display_data"
    },
    {
     "name": "stdout",
     "output_type": "stream",
     "text": [
      "[['2', '2', '25', datetime.datetime(2013, 8, 29, 12, 6, 1), datetime.datetime(2013, 8, 29, 12, 0), 12], ['2', '2', '25', datetime.datetime(2013, 8, 29, 12, 7, 1), datetime.datetime(2013, 8, 29, 12, 0), 12], ['2', '2', '25', datetime.datetime(2013, 8, 29, 12, 8, 1), datetime.datetime(2013, 8, 29, 12, 0), 12]]"
     ]
    }
   ],
   "source": [
    "status_rdd_processed.cache().take(3)"
   ]
  },
  {
   "cell_type": "code",
   "execution_count": 41,
   "metadata": {},
   "outputs": [
    {
     "data": {
      "application/vnd.jupyter.widget-view+json": {
       "model_id": "5e69bcb324974709a5af7d9d14ab020f",
       "version_major": 2,
       "version_minor": 0
      },
      "text/plain": [
       "VBox()"
      ]
     },
     "metadata": {},
     "output_type": "display_data"
    },
    {
     "data": {
      "application/vnd.jupyter.widget-view+json": {
       "model_id": "",
       "version_major": 2,
       "version_minor": 0
      },
      "text/plain": [
       "FloatProgress(value=0.0, bar_style='info', description='Progress:', layout=Layout(height='25px', width='50%'),…"
      ]
     },
     "metadata": {},
     "output_type": "display_data"
    }
   ],
   "source": [
    "def is_weekend(date):\n",
    "    weekday_name = date.strftime('%A')\n",
    "    if weekday_name in ['Saturday','Sunday']:\n",
    "        return True\n",
    "    else:\n",
    "        return False"
   ]
  },
  {
   "cell_type": "code",
   "execution_count": 48,
   "metadata": {},
   "outputs": [
    {
     "data": {
      "application/vnd.jupyter.widget-view+json": {
       "model_id": "8de50599d9ab40b3bb6f442cb3e55a7a",
       "version_major": 2,
       "version_minor": 0
      },
      "text/plain": [
       "VBox()"
      ]
     },
     "metadata": {},
     "output_type": "display_data"
    },
    {
     "data": {
      "application/vnd.jupyter.widget-view+json": {
       "model_id": "",
       "version_major": 2,
       "version_minor": 0
      },
      "text/plain": [
       "FloatProgress(value=0.0, bar_style='info', description='Progress:', layout=Layout(height='25px', width='50%'),…"
      ]
     },
     "metadata": {},
     "output_type": "display_data"
    }
   ],
   "source": [
    "status_rdd_week = status_rdd_processed.map(lambda x:x+[is_weekend(x[4])])\\\n",
    "                    .map(lambda x:[int(x[0]),int(x[1]),int(x[2])\n",
    "                                   ,x[4],x[5],x[6]])\n"
   ]
  },
  {
   "cell_type": "code",
   "execution_count": 49,
   "metadata": {},
   "outputs": [
    {
     "data": {
      "application/vnd.jupyter.widget-view+json": {
       "model_id": "6c627fb444984295989dbf32d8bcd708",
       "version_major": 2,
       "version_minor": 0
      },
      "text/plain": [
       "VBox()"
      ]
     },
     "metadata": {},
     "output_type": "display_data"
    },
    {
     "data": {
      "application/vnd.jupyter.widget-view+json": {
       "model_id": "",
       "version_major": 2,
       "version_minor": 0
      },
      "text/plain": [
       "FloatProgress(value=0.0, bar_style='info', description='Progress:', layout=Layout(height='25px', width='50%'),…"
      ]
     },
     "metadata": {},
     "output_type": "display_data"
    },
    {
     "name": "stdout",
     "output_type": "stream",
     "text": [
      "[[2, 2, 25, datetime.datetime(2013, 8, 29, 12, 0), 12, False], [2, 2, 25, datetime.datetime(2013, 8, 29, 12, 0), 12, False], [2, 2, 25, datetime.datetime(2013, 8, 29, 12, 0), 12, False]]"
     ]
    }
   ],
   "source": [
    "status_rdd_week.cache().take(3)"
   ]
  },
  {
   "cell_type": "code",
   "execution_count": 50,
   "metadata": {},
   "outputs": [
    {
     "data": {
      "application/vnd.jupyter.widget-view+json": {
       "model_id": "f34b62f796ec444cb78d83a0c62ec027",
       "version_major": 2,
       "version_minor": 0
      },
      "text/plain": [
       "VBox()"
      ]
     },
     "metadata": {},
     "output_type": "display_data"
    },
    {
     "data": {
      "application/vnd.jupyter.widget-view+json": {
       "model_id": "",
       "version_major": 2,
       "version_minor": 0
      },
      "text/plain": [
       "FloatProgress(value=0.0, bar_style='info', description='Progress:', layout=Layout(height='25px', width='50%'),…"
      ]
     },
     "metadata": {},
     "output_type": "display_data"
    },
    {
     "name": "stdout",
     "output_type": "stream",
     "text": [
      "DataFrame[station_id: int, bikes_available: int, docks_available: int, time: date, hour: int, is_weekend: boolean]"
     ]
    }
   ],
   "source": [
    "schema = StructType([StructField(\"station_id\", IntegerType(), True),\n",
    "                     StructField(\"bikes_available\", IntegerType(), False),\n",
    "                     StructField(\"docks_available\", IntegerType(), True),\n",
    "                     StructField(\"time\", DateType(), True),\n",
    "                     StructField(\"hour\", IntegerType(), False),\n",
    "                     StructField(\"is_weekend\", BooleanType(), True),\n",
    "                     ])\n",
    "df_status = ss.createDataFrame(status_rdd_week, schema)\n",
    "df_status.cache()"
   ]
  },
  {
   "cell_type": "code",
   "execution_count": 51,
   "metadata": {},
   "outputs": [
    {
     "data": {
      "application/vnd.jupyter.widget-view+json": {
       "model_id": "b9013cbd30e44eefbc6ad5876744c010",
       "version_major": 2,
       "version_minor": 0
      },
      "text/plain": [
       "VBox()"
      ]
     },
     "metadata": {},
     "output_type": "display_data"
    },
    {
     "data": {
      "application/vnd.jupyter.widget-view+json": {
       "model_id": "",
       "version_major": 2,
       "version_minor": 0
      },
      "text/plain": [
       "FloatProgress(value=0.0, bar_style='info', description='Progress:', layout=Layout(height='25px', width='50%'),…"
      ]
     },
     "metadata": {},
     "output_type": "display_data"
    },
    {
     "name": "stdout",
     "output_type": "stream",
     "text": [
      "+----------+---------------+---------------+----------+----+----------+\n",
      "|station_id|bikes_available|docks_available|      date|hour|is_weekend|\n",
      "+----------+---------------+---------------+----------+----+----------+\n",
      "|         2|              2|             25|2013-08-29|  12|     false|\n",
      "|         2|              2|             25|2013-08-29|  12|     false|\n",
      "|         2|              2|             25|2013-08-29|  12|     false|\n",
      "|         2|              2|             25|2013-08-29|  12|     false|\n",
      "|         2|              2|             25|2013-08-29|  12|     false|\n",
      "+----------+---------------+---------------+----------+----+----------+\n",
      "only showing top 5 rows"
     ]
    }
   ],
   "source": [
    "df_status = df_status.withColumnRenamed('time','date')\n",
    "df_status.show(5)"
   ]
  },
  {
   "cell_type": "code",
   "execution_count": 52,
   "metadata": {},
   "outputs": [
    {
     "data": {
      "application/vnd.jupyter.widget-view+json": {
       "model_id": "ac4afe9fc53d4825b8bdb27d16ddeb98",
       "version_major": 2,
       "version_minor": 0
      },
      "text/plain": [
       "VBox()"
      ]
     },
     "metadata": {},
     "output_type": "display_data"
    },
    {
     "data": {
      "application/vnd.jupyter.widget-view+json": {
       "model_id": "",
       "version_major": 2,
       "version_minor": 0
      },
      "text/plain": [
       "FloatProgress(value=0.0, bar_style='info', description='Progress:', layout=Layout(height='25px', width='50%'),…"
      ]
     },
     "metadata": {},
     "output_type": "display_data"
    },
    {
     "name": "stdout",
     "output_type": "stream",
     "text": [
      "+----------+----------+----+--------------------+--------------------+---------------+\n",
      "|station_id|      date|hour|avg(docks_available)|avg(bikes_available)|min(is_weekend)|\n",
      "+----------+----------+----+--------------------+--------------------+---------------+\n",
      "|         2|2013-08-31|   4|                16.0|                11.0|           true|\n",
      "|         2|2013-09-27|  19|                14.0|                13.0|          false|\n",
      "|         2|2013-10-17|  16|  10.983333333333333|  16.016666666666666|          false|\n",
      "|         2|2013-10-26|   3|                 6.0|                21.0|           true|\n",
      "|         2|2013-11-03|  17|  10.566666666666666|  16.433333333333334|           true|\n",
      "+----------+----------+----+--------------------+--------------------+---------------+\n",
      "only showing top 5 rows"
     ]
    }
   ],
   "source": [
    "status_grop = df_status.groupBy('station_id','date','hour')\\\n",
    "    .agg(avg('docks_available'),avg('bikes_available'),min('is_weekend'))\n",
    "status_grop.cache().show(5)"
   ]
  },
  {
   "cell_type": "code",
   "execution_count": 58,
   "metadata": {},
   "outputs": [
    {
     "data": {
      "application/vnd.jupyter.widget-view+json": {
       "model_id": "6e76f5b6058746b1b5cd2be195dd4d55",
       "version_major": 2,
       "version_minor": 0
      },
      "text/plain": [
       "VBox()"
      ]
     },
     "metadata": {},
     "output_type": "display_data"
    },
    {
     "data": {
      "application/vnd.jupyter.widget-view+json": {
       "model_id": "",
       "version_major": 2,
       "version_minor": 0
      },
      "text/plain": [
       "FloatProgress(value=0.0, bar_style='info', description='Progress:', layout=Layout(height='25px', width='50%'),…"
      ]
     },
     "metadata": {},
     "output_type": "display_data"
    },
    {
     "name": "stdout",
     "output_type": "stream",
     "text": [
      "['station_id', 'date', 'hour', 'avg(docks_available)', 'avg(bikes_available)', 'min(is_weekend)']"
     ]
    }
   ],
   "source": [
    "status_grop.columns"
   ]
  },
  {
   "cell_type": "code",
   "execution_count": 62,
   "metadata": {},
   "outputs": [
    {
     "data": {
      "application/vnd.jupyter.widget-view+json": {
       "model_id": "f7a014fe69bd4585bcc2ee166bbab1b0",
       "version_major": 2,
       "version_minor": 0
      },
      "text/plain": [
       "VBox()"
      ]
     },
     "metadata": {},
     "output_type": "display_data"
    },
    {
     "data": {
      "application/vnd.jupyter.widget-view+json": {
       "model_id": "",
       "version_major": 2,
       "version_minor": 0
      },
      "text/plain": [
       "FloatProgress(value=0.0, bar_style='info', description='Progress:', layout=Layout(height='25px', width='50%'),…"
      ]
     },
     "metadata": {},
     "output_type": "display_data"
    },
    {
     "name": "stdout",
     "output_type": "stream",
     "text": [
      "+----------+----------+----+------------------+------------------+----------+\n",
      "|station_id|      date|hour|   docks_available|   bikes_available|is_weekend|\n",
      "+----------+----------+----+------------------+------------------+----------+\n",
      "|         2|2013-08-31|   4|              16.0|              11.0|      true|\n",
      "|         2|2013-09-27|  19|              14.0|              13.0|     false|\n",
      "|         2|2013-10-17|  16|10.983333333333333|16.016666666666666|     false|\n",
      "|         2|2013-10-26|   3|               6.0|              21.0|      true|\n",
      "|         2|2013-11-03|  17|10.566666666666666|16.433333333333334|      true|\n",
      "+----------+----------+----+------------------+------------------+----------+\n",
      "only showing top 5 rows"
     ]
    }
   ],
   "source": [
    "status_grop = status_grop.withColumnRenamed('avg(docks_available)','docks_available')\\\n",
    "                .withColumnRenamed('avg(bikes_available)','bikes_available')\\\n",
    "                .withColumnRenamed('s_weekend','is_weekend')\n",
    "status_grop.show(5)\n",
    "\n"
   ]
  },
  {
   "cell_type": "code",
   "execution_count": 122,
   "metadata": {},
   "outputs": [
    {
     "data": {
      "application/vnd.jupyter.widget-view+json": {
       "model_id": "449a939e12864dab8d558f0396aeb739",
       "version_major": 2,
       "version_minor": 0
      },
      "text/plain": [
       "VBox()"
      ]
     },
     "metadata": {},
     "output_type": "display_data"
    },
    {
     "data": {
      "application/vnd.jupyter.widget-view+json": {
       "model_id": "",
       "version_major": 2,
       "version_minor": 0
      },
      "text/plain": [
       "FloatProgress(value=0.0, bar_style='info', description='Progress:', layout=Layout(height='25px', width='50%'),…"
      ]
     },
     "metadata": {},
     "output_type": "display_data"
    },
    {
     "name": "stdout",
     "output_type": "stream",
     "text": [
      "+----------+----------+----+------------------+------------------+----------+\n",
      "|station_id|      date|hour|   docks_available|   bikes_available|is_weekend|\n",
      "+----------+----------+----+------------------+------------------+----------+\n",
      "|         2|2013-08-29|  12|              25.0|               2.0|     false|\n",
      "|         2|2013-08-29|  13| 24.30188679245283|  2.69811320754717|     false|\n",
      "|         2|2013-08-29|  14|              25.0|               2.0|     false|\n",
      "|         2|2013-08-29|  15|              25.0|               2.0|     false|\n",
      "|         2|2013-08-29|  16|              25.0|               2.0|     false|\n",
      "|         2|2013-08-29|  17| 24.09259259259259|2.9074074074074074|     false|\n",
      "|         2|2013-08-29|  18|              24.0|               3.0|     false|\n",
      "|         2|2013-08-29|  19|24.454545454545453|2.5454545454545454|     false|\n",
      "|         2|2013-08-29|  20|25.403846153846153|1.5961538461538463|     false|\n",
      "|         2|2013-08-29|  21|              26.0|               1.0|     false|\n",
      "|         2|2013-08-29|  22| 24.98148148148148|2.0185185185185186|     false|\n",
      "|         2|2013-08-29|  23|              24.0|               3.0|     false|\n",
      "|         2|2013-08-30|   0|              24.0|               3.0|     false|\n",
      "|         2|2013-08-30|   1|              24.0|               3.0|     false|\n",
      "|         2|2013-08-30|   2|              24.0|               3.0|     false|\n",
      "|         2|2013-08-30|   3|              24.0|               3.0|     false|\n",
      "|         2|2013-08-30|   4|              24.0|               3.0|     false|\n",
      "|         2|2013-08-30|   5| 24.07843137254902|2.9215686274509802|     false|\n",
      "|         2|2013-08-30|   6|              24.0|               3.0|     false|\n",
      "|         2|2013-08-30|   7|              24.0|               3.0|     false|\n",
      "|         2|2013-08-30|   8| 24.79245283018868| 2.207547169811321|     false|\n",
      "|         2|2013-08-30|   9|              26.0|               1.0|     false|\n",
      "|         2|2013-08-30|  10|              26.0|               1.0|     false|\n",
      "|         2|2013-08-30|  11| 25.12962962962963|1.8703703703703705|     false|\n",
      "|         2|2013-08-30|  12|              25.0|               2.0|     false|\n",
      "|         2|2013-08-30|  13|24.586206896551722| 2.413793103448276|     false|\n",
      "|         2|2013-08-30|  14|              24.0|               3.0|     false|\n",
      "|         2|2013-08-30|  15|              24.0|               3.0|     false|\n",
      "|         2|2013-08-30|  16| 18.29090909090909| 8.709090909090909|     false|\n",
      "|         2|2013-08-30|  17|              16.0|              11.0|     false|\n",
      "+----------+----------+----+------------------+------------------+----------+\n",
      "only showing top 30 rows"
     ]
    }
   ],
   "source": [
    "status_grop.orderBy('station_id','date','hour').show(30)"
   ]
  },
  {
   "cell_type": "code",
   "execution_count": 63,
   "metadata": {},
   "outputs": [
    {
     "data": {
      "application/vnd.jupyter.widget-view+json": {
       "model_id": "f11d077164704c4dbee23bc6b2b98a72",
       "version_major": 2,
       "version_minor": 0
      },
      "text/plain": [
       "VBox()"
      ]
     },
     "metadata": {},
     "output_type": "display_data"
    },
    {
     "data": {
      "application/vnd.jupyter.widget-view+json": {
       "model_id": "",
       "version_major": 2,
       "version_minor": 0
      },
      "text/plain": [
       "FloatProgress(value=0.0, bar_style='info', description='Progress:', layout=Layout(height='25px', width='50%'),…"
      ]
     },
     "metadata": {},
     "output_type": "display_data"
    }
   ],
   "source": [
    "status_grop.write.mode(\"overwrite\")\\\n",
    "        .parquet(\"s3://msds694.proj/data/parquet/status_grouped\")"
   ]
  },
  {
   "cell_type": "code",
   "execution_count": null,
   "metadata": {},
   "outputs": [],
   "source": []
  },
  {
   "cell_type": "code",
   "execution_count": null,
   "metadata": {},
   "outputs": [],
   "source": []
  },
  {
   "cell_type": "code",
   "execution_count": 144,
   "metadata": {
    "scrolled": false
   },
   "outputs": [
    {
     "data": {
      "application/vnd.jupyter.widget-view+json": {
       "model_id": "76dded78199746c8842ebbf9c259ed6c",
       "version_major": 2,
       "version_minor": 0
      },
      "text/plain": [
       "VBox()"
      ]
     },
     "metadata": {},
     "output_type": "display_data"
    },
    {
     "data": {
      "application/vnd.jupyter.widget-view+json": {
       "model_id": "",
       "version_major": 2,
       "version_minor": 0
      },
      "text/plain": [
       "FloatProgress(value=0.0, bar_style='info', description='Progress:', layout=Layout(height='25px', width='50%'),…"
      ]
     },
     "metadata": {},
     "output_type": "display_data"
    },
    {
     "name": "stdout",
     "output_type": "stream",
     "text": [
      "+----------+----------+----+------------------+------------------+----------+----------+---------------+\n",
      "|      date|station_id|hour|   docks_available|   bikes_available|is_weekend|temp_float|rain_identifier|\n",
      "+----------+----------+----+------------------+------------------+----------+----------+---------------+\n",
      "|2014-02-16|        13|   0| 7.066666666666666| 7.933333333333334|      true|      56.0|           true|\n",
      "|2014-02-16|        26|  13|               7.0|               8.0|      true|      56.0|           true|\n",
      "|2014-02-16|        28|   0|              11.0|              12.0|      true|      56.0|           true|\n",
      "|2014-02-16|        35|   5|               5.0|               6.0|      true|      56.0|           true|\n",
      "|2014-02-16|        61|   4|             13.25|             13.75|      true|      56.0|           true|\n",
      "|2014-02-16|        61|  13|11.083333333333334|15.916666666666666|      true|      56.0|           true|\n",
      "|2014-02-16|        66|  13|10.333333333333334| 8.666666666666666|      true|      56.0|           true|\n",
      "|2014-02-16|        74|   5|              10.0|              13.0|      true|      56.0|           true|\n",
      "|2014-02-16|        10|   9|               7.0|               8.0|      true|      56.0|           true|\n",
      "|2014-02-16|        14|   8|10.083333333333334| 8.916666666666666|      true|      56.0|           true|\n",
      "|2014-02-16|        24|  18|               7.5|               7.5|      true|      56.0|           true|\n",
      "|2014-02-16|        26|   8|               7.0|               8.0|      true|      56.0|           true|\n",
      "|2014-02-16|        42|  23|               8.0|               7.0|      true|      56.0|           true|\n",
      "|2014-02-16|        45|   9|               6.0|               9.0|      true|      56.0|           true|\n",
      "|2014-02-16|        45|  15| 6.883333333333334| 8.116666666666667|      true|      56.0|           true|\n",
      "|2014-02-16|        46|   3|               9.0|               6.0|      true|      56.0|           true|\n",
      "|2014-02-16|        46|  17| 7.266666666666667| 7.733333333333333|      true|      56.0|           true|\n",
      "|2014-02-16|        62|   2|              11.0|               8.0|      true|      56.0|           true|\n",
      "|2014-02-16|        12|   1| 9.516666666666667| 9.483333333333333|      true|      56.0|           true|\n",
      "|2014-02-16|        21|  18|               8.0|               7.0|      true|      56.0|           true|\n",
      "+----------+----------+----+------------------+------------------+----------+----------+---------------+\n",
      "only showing top 20 rows"
     ]
    }
   ],
   "source": [
    "status_weather = status_grop.join(weather_df_processed,'date','left_outer')\n",
    "status_weather.cache().show()"
   ]
  },
  {
   "cell_type": "code",
   "execution_count": 145,
   "metadata": {},
   "outputs": [
    {
     "data": {
      "application/vnd.jupyter.widget-view+json": {
       "model_id": "94f7fd3f78014d97b6c320da9199e5fc",
       "version_major": 2,
       "version_minor": 0
      },
      "text/plain": [
       "VBox()"
      ]
     },
     "metadata": {},
     "output_type": "display_data"
    },
    {
     "data": {
      "application/vnd.jupyter.widget-view+json": {
       "model_id": "",
       "version_major": 2,
       "version_minor": 0
      },
      "text/plain": [
       "FloatProgress(value=0.0, bar_style='info', description='Progress:', layout=Layout(height='25px', width='50%'),…"
      ]
     },
     "metadata": {},
     "output_type": "display_data"
    },
    {
     "name": "stdout",
     "output_type": "stream",
     "text": [
      "+----------+----------+----+------------------+------------------+----------+----------+---------------+\n",
      "|      date|station_id|hour|   docks_available|   bikes_available|is_weekend|temp_float|rain_identifier|\n",
      "+----------+----------+----+------------------+------------------+----------+----------+---------------+\n",
      "|2013-08-29|         2|  12|              25.0|               2.0|     false|      70.4|          false|\n",
      "|2013-08-29|         2|  13| 24.30188679245283|  2.69811320754717|     false|      70.4|          false|\n",
      "|2013-08-29|         2|  14|              25.0|               2.0|     false|      70.4|          false|\n",
      "|2013-08-29|         2|  15|              25.0|               2.0|     false|      70.4|          false|\n",
      "|2013-08-29|         2|  16|              25.0|               2.0|     false|      70.4|          false|\n",
      "|2013-08-29|         2|  17| 24.09259259259259|2.9074074074074074|     false|      70.4|          false|\n",
      "|2013-08-29|         2|  18|              24.0|               3.0|     false|      70.4|          false|\n",
      "|2013-08-29|         2|  19|24.454545454545453|2.5454545454545454|     false|      70.4|          false|\n",
      "|2013-08-29|         2|  20|25.403846153846153|1.5961538461538463|     false|      70.4|          false|\n",
      "|2013-08-29|         2|  21|              26.0|               1.0|     false|      70.4|          false|\n",
      "|2013-08-29|         2|  22| 24.98148148148148|2.0185185185185186|     false|      70.4|          false|\n",
      "|2013-08-29|         2|  23|              24.0|               3.0|     false|      70.4|          false|\n",
      "|2013-08-30|         2|   0|              24.0|               3.0|     false|      73.0|          false|\n",
      "|2013-08-30|         2|   1|              24.0|               3.0|     false|      73.0|          false|\n",
      "|2013-08-30|         2|   2|              24.0|               3.0|     false|      73.0|          false|\n",
      "|2013-08-30|         2|   3|              24.0|               3.0|     false|      73.0|          false|\n",
      "|2013-08-30|         2|   4|              24.0|               3.0|     false|      73.0|          false|\n",
      "|2013-08-30|         2|   5| 24.07843137254902|2.9215686274509802|     false|      73.0|          false|\n",
      "|2013-08-30|         2|   6|              24.0|               3.0|     false|      73.0|          false|\n",
      "|2013-08-30|         2|   7|              24.0|               3.0|     false|      73.0|          false|\n",
      "|2013-08-30|         2|   8| 24.79245283018868| 2.207547169811321|     false|      73.0|          false|\n",
      "|2013-08-30|         2|   9|              26.0|               1.0|     false|      73.0|          false|\n",
      "|2013-08-30|         2|  10|              26.0|               1.0|     false|      73.0|          false|\n",
      "|2013-08-30|         2|  11| 25.12962962962963|1.8703703703703705|     false|      73.0|          false|\n",
      "|2013-08-30|         2|  12|              25.0|               2.0|     false|      73.0|          false|\n",
      "|2013-08-30|         2|  13|24.586206896551722| 2.413793103448276|     false|      73.0|          false|\n",
      "|2013-08-30|         2|  14|              24.0|               3.0|     false|      73.0|          false|\n",
      "|2013-08-30|         2|  15|              24.0|               3.0|     false|      73.0|          false|\n",
      "|2013-08-30|         2|  16| 18.29090909090909| 8.709090909090909|     false|      73.0|          false|\n",
      "|2013-08-30|         2|  17|              16.0|              11.0|     false|      73.0|          false|\n",
      "+----------+----------+----+------------------+------------------+----------+----------+---------------+\n",
      "only showing top 30 rows"
     ]
    }
   ],
   "source": [
    "status_weather.orderBy('station_id','date','hour').show(30)"
   ]
  },
  {
   "cell_type": "code",
   "execution_count": 93,
   "metadata": {},
   "outputs": [
    {
     "data": {
      "application/vnd.jupyter.widget-view+json": {
       "model_id": "30f44578d8ac41fbb9307facb2b24061",
       "version_major": 2,
       "version_minor": 0
      },
      "text/plain": [
       "VBox()"
      ]
     },
     "metadata": {},
     "output_type": "display_data"
    },
    {
     "data": {
      "application/vnd.jupyter.widget-view+json": {
       "model_id": "",
       "version_major": 2,
       "version_minor": 0
      },
      "text/plain": [
       "FloatProgress(value=0.0, bar_style='info', description='Progress:', layout=Layout(height='25px', width='50%'),…"
      ]
     },
     "metadata": {},
     "output_type": "display_data"
    }
   ],
   "source": [
    "def type_safe(v):\n",
    "    try:\n",
    "        return int(v)\n",
    "    except ValueError:\n",
    "        return str(v) "
   ]
  },
  {
   "cell_type": "code",
   "execution_count": 86,
   "metadata": {},
   "outputs": [
    {
     "data": {
      "application/vnd.jupyter.widget-view+json": {
       "model_id": "f257d10cc80d4d16bd5d11124334e8e8",
       "version_major": 2,
       "version_minor": 0
      },
      "text/plain": [
       "VBox()"
      ]
     },
     "metadata": {},
     "output_type": "display_data"
    },
    {
     "data": {
      "application/vnd.jupyter.widget-view+json": {
       "model_id": "",
       "version_major": 2,
       "version_minor": 0
      },
      "text/plain": [
       "FloatProgress(value=0.0, bar_style='info', description='Progress:', layout=Layout(height='25px', width='50%'),…"
      ]
     },
     "metadata": {},
     "output_type": "display_data"
    },
    {
     "name": "stdout",
     "output_type": "stream",
     "text": [
      "[['4576', '63', datetime.datetime(2013, 8, 29, 14, 13), 'South Van Ness at Market', '66', datetime.datetime(2013, 8, 29, 14, 14), 'South Van Ness at Market', '66', '520', 'Subscriber', '94127'], ['4607', '70', datetime.datetime(2013, 8, 29, 14, 42), 'San Jose City Hall', '10', datetime.datetime(2013, 8, 29, 14, 43), 'San Jose City Hall', '10', '661', 'Subscriber', '95138'], ['4130', '71', datetime.datetime(2013, 8, 29, 10, 16), 'Mountain View City Hall', '27', datetime.datetime(2013, 8, 29, 10, 17), 'Mountain View City Hall', '27', '48', 'Subscriber', '97214']]"
     ]
    }
   ],
   "source": [
    "trip_rdd = sc.textFile(trip_path).filter(lambda x: not x.startswith('id'))\\\n",
    "                                  .map(lambda x:x.split(','))\\\n",
    "                                  .map(lambda x: change_col(x,2,parse))\\\n",
    "                                  .map(lambda x: change_col(x,5,parse))\\\n",
    "                                  \n",
    "trip_rdd.take(3)\n"
   ]
  },
  {
   "cell_type": "code",
   "execution_count": 94,
   "metadata": {},
   "outputs": [
    {
     "data": {
      "application/vnd.jupyter.widget-view+json": {
       "model_id": "c7be4c0523644ccfb7a7a2ab98792818",
       "version_major": 2,
       "version_minor": 0
      },
      "text/plain": [
       "VBox()"
      ]
     },
     "metadata": {},
     "output_type": "display_data"
    },
    {
     "data": {
      "application/vnd.jupyter.widget-view+json": {
       "model_id": "",
       "version_major": 2,
       "version_minor": 0
      },
      "text/plain": [
       "FloatProgress(value=0.0, bar_style='info', description='Progress:', layout=Layout(height='25px', width='50%'),…"
      ]
     },
     "metadata": {},
     "output_type": "display_data"
    }
   ],
   "source": [
    "start = trip_rdd.map(lambda x: [type_safe(x[0]), x[2],x[2].hour, type_safe(x[4])])\n",
    "end = trip_rdd.map(lambda x: [type_safe(x[0]), x[5], x[5].hour,type_safe(x[7])])\n"
   ]
  },
  {
   "cell_type": "code",
   "execution_count": 95,
   "metadata": {},
   "outputs": [
    {
     "data": {
      "application/vnd.jupyter.widget-view+json": {
       "model_id": "f1f357e76ffd4ab5b40d308eede6de8e",
       "version_major": 2,
       "version_minor": 0
      },
      "text/plain": [
       "VBox()"
      ]
     },
     "metadata": {},
     "output_type": "display_data"
    },
    {
     "data": {
      "application/vnd.jupyter.widget-view+json": {
       "model_id": "",
       "version_major": 2,
       "version_minor": 0
      },
      "text/plain": [
       "FloatProgress(value=0.0, bar_style='info', description='Progress:', layout=Layout(height='25px', width='50%'),…"
      ]
     },
     "metadata": {},
     "output_type": "display_data"
    }
   ],
   "source": [
    "startschema = StructType([\n",
    "    StructField(\"trip_id\",IntegerType(),False),\n",
    "    StructField(\"start_date\", DateType(),False),\n",
    "    StructField(\"start_hour\", IntegerType(),False),\n",
    "    StructField(\"start_station_id\",IntegerType(),False),\n",
    "])\n",
    "\n",
    "endschema = StructType([\n",
    "    StructField(\"trip_id\",IntegerType(),False),\n",
    "    StructField(\"end_date\", DateType(),False),\n",
    "    StructField(\"end_hour\", IntegerType(),False),\n",
    "    StructField(\"end_station_id\",IntegerType(),False),\n",
    "])"
   ]
  },
  {
   "cell_type": "code",
   "execution_count": 96,
   "metadata": {},
   "outputs": [
    {
     "data": {
      "application/vnd.jupyter.widget-view+json": {
       "model_id": "342a41ae6fb14ba3845cef88c5653d51",
       "version_major": 2,
       "version_minor": 0
      },
      "text/plain": [
       "VBox()"
      ]
     },
     "metadata": {},
     "output_type": "display_data"
    },
    {
     "data": {
      "application/vnd.jupyter.widget-view+json": {
       "model_id": "",
       "version_major": 2,
       "version_minor": 0
      },
      "text/plain": [
       "FloatProgress(value=0.0, bar_style='info', description='Progress:', layout=Layout(height='25px', width='50%'),…"
      ]
     },
     "metadata": {},
     "output_type": "display_data"
    }
   ],
   "source": [
    "start_df0 = ss.createDataFrame(start, startschema)\n",
    "end_df0 = ss.createDataFrame(end, endschema)"
   ]
  },
  {
   "cell_type": "code",
   "execution_count": 98,
   "metadata": {
    "scrolled": false
   },
   "outputs": [
    {
     "data": {
      "application/vnd.jupyter.widget-view+json": {
       "model_id": "ff0d417e1f37482ebc2de4e424c481e0",
       "version_major": 2,
       "version_minor": 0
      },
      "text/plain": [
       "VBox()"
      ]
     },
     "metadata": {},
     "output_type": "display_data"
    },
    {
     "data": {
      "application/vnd.jupyter.widget-view+json": {
       "model_id": "",
       "version_major": 2,
       "version_minor": 0
      },
      "text/plain": [
       "FloatProgress(value=0.0, bar_style='info', description='Progress:', layout=Layout(height='25px', width='50%'),…"
      ]
     },
     "metadata": {},
     "output_type": "display_data"
    },
    {
     "name": "stdout",
     "output_type": "stream",
     "text": [
      "+----------------+----------+----------+-----+\n",
      "|start_station_id|start_date|start_hour|count|\n",
      "+----------------+----------+----------+-----+\n",
      "|              65|2015-08-11|        18|    5|\n",
      "|              63|2015-08-11|        16|    4|\n",
      "|              54|2015-08-10|        18|    1|\n",
      "|               6|2015-08-10|        17|    3|\n",
      "|              68|2015-08-10|        17|    1|\n",
      "|              50|2015-08-10|        15|    1|\n",
      "|              45|2015-08-10|         8|    3|\n",
      "|              82|2015-08-10|         8|    2|\n",
      "|              59|2015-08-09|        21|    1|\n",
      "|              68|2015-08-09|        13|    2|\n",
      "|              58|2015-08-08|        17|    1|\n",
      "|              57|2015-08-08|        10|    1|\n",
      "|              46|2015-08-08|         3|    1|\n",
      "|              71|2015-08-07|         8|    3|\n",
      "|              72|2015-08-07|         4|    1|\n",
      "|              41|2015-08-06|        11|    3|\n",
      "|              62|2015-08-05|        10|    1|\n",
      "|              49|2015-08-04|        19|    2|\n",
      "|              22|2015-08-04|        18|    1|\n",
      "|              28|2015-08-04|         8|    2|\n",
      "+----------------+----------+----------+-----+\n",
      "only showing top 20 rows"
     ]
    }
   ],
   "source": [
    "start_result = start_df0.groupby('start_station_id', 'start_date','start_hour').count()\n",
    "start_result.cache().show()"
   ]
  },
  {
   "cell_type": "code",
   "execution_count": 99,
   "metadata": {
    "scrolled": false
   },
   "outputs": [
    {
     "data": {
      "application/vnd.jupyter.widget-view+json": {
       "model_id": "c31c830869414fb98349519961ca62e1",
       "version_major": 2,
       "version_minor": 0
      },
      "text/plain": [
       "VBox()"
      ]
     },
     "metadata": {},
     "output_type": "display_data"
    },
    {
     "data": {
      "application/vnd.jupyter.widget-view+json": {
       "model_id": "",
       "version_major": 2,
       "version_minor": 0
      },
      "text/plain": [
       "FloatProgress(value=0.0, bar_style='info', description='Progress:', layout=Layout(height='25px', width='50%'),…"
      ]
     },
     "metadata": {},
     "output_type": "display_data"
    },
    {
     "name": "stdout",
     "output_type": "stream",
     "text": [
      "+--------------+----------+--------+-----+\n",
      "|end_station_id|  end_date|end_hour|count|\n",
      "+--------------+----------+--------+-----+\n",
      "|            49|2013-08-29|      19|    2|\n",
      "|             3|2013-08-29|      20|    2|\n",
      "|            66|2013-08-30|      10|    4|\n",
      "|            28|2013-09-01|      10|    1|\n",
      "|            47|2013-09-01|      16|    2|\n",
      "|            48|2013-09-02|      11|    3|\n",
      "|            76|2013-09-02|      15|    4|\n",
      "|            38|2013-09-03|      16|    2|\n",
      "|            76|2013-09-03|      19|    1|\n",
      "|            47|2013-09-04|       9|    1|\n",
      "|            41|2013-09-05|      14|    1|\n",
      "|            10|2013-09-05|      16|    1|\n",
      "|            65|2013-09-05|      16|    1|\n",
      "|            49|2013-09-06|       8|    3|\n",
      "|            63|2013-09-06|      17|    1|\n",
      "|             8|2013-09-06|      20|    2|\n",
      "|            71|2013-09-07|       9|    2|\n",
      "|            60|2013-09-07|      11|    6|\n",
      "|            16|2013-09-07|      19|    3|\n",
      "|            50|2013-09-08|      10|    1|\n",
      "+--------------+----------+--------+-----+\n",
      "only showing top 20 rows"
     ]
    }
   ],
   "source": [
    "end_result = end_df0.groupby('end_station_id', 'end_date','end_hour').count()\n",
    "end_result.cache().show()"
   ]
  },
  {
   "cell_type": "code",
   "execution_count": 104,
   "metadata": {},
   "outputs": [
    {
     "data": {
      "application/vnd.jupyter.widget-view+json": {
       "model_id": "769cf5ab077946bc97691a99d7f4264a",
       "version_major": 2,
       "version_minor": 0
      },
      "text/plain": [
       "VBox()"
      ]
     },
     "metadata": {},
     "output_type": "display_data"
    },
    {
     "data": {
      "application/vnd.jupyter.widget-view+json": {
       "model_id": "",
       "version_major": 2,
       "version_minor": 0
      },
      "text/plain": [
       "FloatProgress(value=0.0, bar_style='info', description='Progress:', layout=Layout(height='25px', width='50%'),…"
      ]
     },
     "metadata": {},
     "output_type": "display_data"
    }
   ],
   "source": [
    "end_result = end_result.withColumnRenamed('count','end_count')"
   ]
  },
  {
   "cell_type": "code",
   "execution_count": 105,
   "metadata": {},
   "outputs": [
    {
     "data": {
      "application/vnd.jupyter.widget-view+json": {
       "model_id": "8446e917e34647a68cd5efe5b275972b",
       "version_major": 2,
       "version_minor": 0
      },
      "text/plain": [
       "VBox()"
      ]
     },
     "metadata": {},
     "output_type": "display_data"
    },
    {
     "data": {
      "application/vnd.jupyter.widget-view+json": {
       "model_id": "",
       "version_major": 2,
       "version_minor": 0
      },
      "text/plain": [
       "FloatProgress(value=0.0, bar_style='info', description='Progress:', layout=Layout(height='25px', width='50%'),…"
      ]
     },
     "metadata": {},
     "output_type": "display_data"
    }
   ],
   "source": [
    " result = start_result.join(end_result, (start_result['start_station_id'] == end_result['end_station_id']) \n",
    "                           & (start_result['start_hour'] == end_result['end_hour'])\n",
    "                            & (start_result['start_date'] == end_result['end_date']),\n",
    "                            'inner')\n",
    "    "
   ]
  },
  {
   "cell_type": "code",
   "execution_count": 106,
   "metadata": {},
   "outputs": [
    {
     "data": {
      "application/vnd.jupyter.widget-view+json": {
       "model_id": "333db8ef95d04ae2ad99ca2f30e8553a",
       "version_major": 2,
       "version_minor": 0
      },
      "text/plain": [
       "VBox()"
      ]
     },
     "metadata": {},
     "output_type": "display_data"
    },
    {
     "data": {
      "application/vnd.jupyter.widget-view+json": {
       "model_id": "",
       "version_major": 2,
       "version_minor": 0
      },
      "text/plain": [
       "FloatProgress(value=0.0, bar_style='info', description='Progress:', layout=Layout(height='25px', width='50%'),…"
      ]
     },
     "metadata": {},
     "output_type": "display_data"
    },
    {
     "name": "stdout",
     "output_type": "stream",
     "text": [
      "+----------------+----------+----------+-----+--------------+----------+--------+---------+\n",
      "|start_station_id|start_date|start_hour|count|end_station_id|  end_date|end_hour|end_count|\n",
      "+----------------+----------+----------+-----+--------------+----------+--------+---------+\n",
      "|              49|2013-08-29|        19|    1|            49|2013-08-29|      19|        2|\n",
      "|               3|2013-08-29|        20|    1|             3|2013-08-29|      20|        2|\n",
      "|              66|2013-08-30|        10|    4|            66|2013-08-30|      10|        4|\n",
      "+----------------+----------+----------+-----+--------------+----------+--------+---------+\n",
      "only showing top 3 rows"
     ]
    }
   ],
   "source": [
    "result.show(3)"
   ]
  },
  {
   "cell_type": "code",
   "execution_count": 107,
   "metadata": {},
   "outputs": [
    {
     "data": {
      "application/vnd.jupyter.widget-view+json": {
       "model_id": "9618206f92274500a9b717fb4357f95b",
       "version_major": 2,
       "version_minor": 0
      },
      "text/plain": [
       "VBox()"
      ]
     },
     "metadata": {},
     "output_type": "display_data"
    },
    {
     "data": {
      "application/vnd.jupyter.widget-view+json": {
       "model_id": "",
       "version_major": 2,
       "version_minor": 0
      },
      "text/plain": [
       "FloatProgress(value=0.0, bar_style='info', description='Progress:', layout=Layout(height='25px', width='50%'),…"
      ]
     },
     "metadata": {},
     "output_type": "display_data"
    }
   ],
   "source": [
    "result_df = result.select('start_station_id','start_date', 'start_hour', 'count', 'end_count')\n"
   ]
  },
  {
   "cell_type": "code",
   "execution_count": 111,
   "metadata": {},
   "outputs": [
    {
     "data": {
      "application/vnd.jupyter.widget-view+json": {
       "model_id": "aa54236b2a254ee3aa85dbda744d549b",
       "version_major": 2,
       "version_minor": 0
      },
      "text/plain": [
       "VBox()"
      ]
     },
     "metadata": {},
     "output_type": "display_data"
    },
    {
     "data": {
      "application/vnd.jupyter.widget-view+json": {
       "model_id": "",
       "version_major": 2,
       "version_minor": 0
      },
      "text/plain": [
       "FloatProgress(value=0.0, bar_style='info', description='Progress:', layout=Layout(height='25px', width='50%'),…"
      ]
     },
     "metadata": {},
     "output_type": "display_data"
    },
    {
     "name": "stdout",
     "output_type": "stream",
     "text": [
      "+----------+----------+----+-----------+---------+\n",
      "|station_id|      date|hour|start_count|end_count|\n",
      "+----------+----------+----+-----------+---------+\n",
      "|        65|2015-08-11|  18|          5|        5|\n",
      "|        63|2015-08-11|  16|          4|        2|\n",
      "|        54|2015-08-10|  18|          1|        2|\n",
      "+----------+----------+----+-----------+---------+\n",
      "only showing top 3 rows"
     ]
    }
   ],
   "source": [
    "\n",
    "result_df = result_df.withColumnRenamed('start_station_id','station_id').withColumnRenamed('start_date','date').withColumnRenamed('start_hour','hour').withColumnRenamed('count','start_count')\n",
    "result_df.cache().show(3)"
   ]
  },
  {
   "cell_type": "code",
   "execution_count": 146,
   "metadata": {},
   "outputs": [
    {
     "data": {
      "application/vnd.jupyter.widget-view+json": {
       "model_id": "9752927cc20345e3939e041059d52bef",
       "version_major": 2,
       "version_minor": 0
      },
      "text/plain": [
       "VBox()"
      ]
     },
     "metadata": {},
     "output_type": "display_data"
    },
    {
     "data": {
      "application/vnd.jupyter.widget-view+json": {
       "model_id": "",
       "version_major": 2,
       "version_minor": 0
      },
      "text/plain": [
       "FloatProgress(value=0.0, bar_style='info', description='Progress:', layout=Layout(height='25px', width='50%'),…"
      ]
     },
     "metadata": {},
     "output_type": "display_data"
    },
    {
     "name": "stdout",
     "output_type": "stream",
     "text": [
      "+----------+----------+----+-----------------+-----------------+----------+----------+---------------+\n",
      "|      date|station_id|hour|  docks_available|  bikes_available|is_weekend|temp_float|rain_identifier|\n",
      "+----------+----------+----+-----------------+-----------------+----------+----------+---------------+\n",
      "|2014-02-16|        13|   0|7.066666666666666|7.933333333333334|      true|      56.0|           true|\n",
      "|2014-02-16|        26|  13|              7.0|              8.0|      true|      56.0|           true|\n",
      "|2014-02-16|        28|   0|             11.0|             12.0|      true|      56.0|           true|\n",
      "|2014-02-16|        35|   5|              5.0|              6.0|      true|      56.0|           true|\n",
      "|2014-02-16|        61|   4|            13.25|            13.75|      true|      56.0|           true|\n",
      "+----------+----------+----+-----------------+-----------------+----------+----------+---------------+\n",
      "only showing top 5 rows"
     ]
    }
   ],
   "source": [
    "status_weather.show(5)"
   ]
  },
  {
   "cell_type": "code",
   "execution_count": 147,
   "metadata": {},
   "outputs": [
    {
     "data": {
      "application/vnd.jupyter.widget-view+json": {
       "model_id": "c52e4b8765764e52805aaa93a06283af",
       "version_major": 2,
       "version_minor": 0
      },
      "text/plain": [
       "VBox()"
      ]
     },
     "metadata": {},
     "output_type": "display_data"
    },
    {
     "data": {
      "application/vnd.jupyter.widget-view+json": {
       "model_id": "",
       "version_major": 2,
       "version_minor": 0
      },
      "text/plain": [
       "FloatProgress(value=0.0, bar_style='info', description='Progress:', layout=Layout(height='25px', width='50%'),…"
      ]
     },
     "metadata": {},
     "output_type": "display_data"
    },
    {
     "name": "stdout",
     "output_type": "stream",
     "text": [
      "+----------+----------+----+------------------+------------------+----------+----------+---------------+-----------+---------+\n",
      "|station_id|      date|hour|   docks_available|   bikes_available|is_weekend|temp_float|rain_identifier|start_count|end_count|\n",
      "+----------+----------+----+------------------+------------------+----------+----------+---------------+-----------+---------+\n",
      "|        13|2014-02-16|   0| 7.066666666666666| 7.933333333333334|      true|      56.0|           true|       null|     null|\n",
      "|        26|2014-02-16|  13|               7.0|               8.0|      true|      56.0|           true|       null|     null|\n",
      "|        28|2014-02-16|   0|              11.0|              12.0|      true|      56.0|           true|       null|     null|\n",
      "|        35|2014-02-16|   5|               5.0|               6.0|      true|      56.0|           true|       null|     null|\n",
      "|        61|2014-02-16|   4|             13.25|             13.75|      true|      56.0|           true|       null|     null|\n",
      "|        61|2014-02-16|  13|11.083333333333334|15.916666666666666|      true|      56.0|           true|       null|     null|\n",
      "|        66|2014-02-16|  13|10.333333333333334| 8.666666666666666|      true|      56.0|           true|       null|     null|\n",
      "|        74|2014-02-16|   5|              10.0|              13.0|      true|      56.0|           true|       null|     null|\n",
      "|        10|2014-02-16|   9|               7.0|               8.0|      true|      56.0|           true|       null|     null|\n",
      "|        14|2014-02-16|   8|10.083333333333334| 8.916666666666666|      true|      56.0|           true|       null|     null|\n",
      "|        24|2014-02-16|  18|               7.5|               7.5|      true|      56.0|           true|       null|     null|\n",
      "|        26|2014-02-16|   8|               7.0|               8.0|      true|      56.0|           true|       null|     null|\n",
      "|        42|2014-02-16|  23|               8.0|               7.0|      true|      56.0|           true|       null|     null|\n",
      "|        45|2014-02-16|   9|               6.0|               9.0|      true|      56.0|           true|       null|     null|\n",
      "|        45|2014-02-16|  15| 6.883333333333334| 8.116666666666667|      true|      56.0|           true|       null|     null|\n",
      "|        46|2014-02-16|   3|               9.0|               6.0|      true|      56.0|           true|       null|     null|\n",
      "|        46|2014-02-16|  17| 7.266666666666667| 7.733333333333333|      true|      56.0|           true|       null|     null|\n",
      "|        62|2014-02-16|   2|              11.0|               8.0|      true|      56.0|           true|       null|     null|\n",
      "|        12|2014-02-16|   1| 9.516666666666667| 9.483333333333333|      true|      56.0|           true|       null|     null|\n",
      "|        21|2014-02-16|  18|               8.0|               7.0|      true|      56.0|           true|       null|     null|\n",
      "+----------+----------+----+------------------+------------------+----------+----------+---------------+-----------+---------+\n",
      "only showing top 20 rows"
     ]
    }
   ],
   "source": [
    "final_df = status_weather.join(result_df,['station_id','date','hour'],'left_outer')\n",
    "final_df.cache().show()"
   ]
  },
  {
   "cell_type": "code",
   "execution_count": 153,
   "metadata": {},
   "outputs": [
    {
     "data": {
      "application/vnd.jupyter.widget-view+json": {
       "model_id": "e622eb0e1e95447e8855e1640b5bb996",
       "version_major": 2,
       "version_minor": 0
      },
      "text/plain": [
       "VBox()"
      ]
     },
     "metadata": {},
     "output_type": "display_data"
    },
    {
     "data": {
      "application/vnd.jupyter.widget-view+json": {
       "model_id": "",
       "version_major": 2,
       "version_minor": 0
      },
      "text/plain": [
       "FloatProgress(value=0.0, bar_style='info', description='Progress:', layout=Layout(height='25px', width='50%'),…"
      ]
     },
     "metadata": {},
     "output_type": "display_data"
    },
    {
     "name": "stdout",
     "output_type": "stream",
     "text": [
      "+----------+----------+----+------------------+------------------+----------+----------+---------------+-----------+---------+\n",
      "|station_id|      date|hour|   docks_available|   bikes_available|is_weekend|temp_float|rain_identifier|start_count|end_count|\n",
      "+----------+----------+----+------------------+------------------+----------+----------+---------------+-----------+---------+\n",
      "|        70|2015-01-28|   8| 9.516666666666667| 9.483333333333333|     false|      55.4|          false|         52|       15|\n",
      "|        70|2015-01-07|   8|               9.7|               9.3|     false|      52.4|          false|         45|       21|\n",
      "|        70|2015-02-18|   8|              12.6| 6.066666666666666|     false|      58.0|          false|         44|       16|\n",
      "|        69|2015-06-23|   8| 9.666666666666666|13.333333333333334|     false|      64.8|          false|         44|        9|\n",
      "|        69|2015-03-16|   8|17.016666666666666| 5.916666666666667|     false|      63.0|          false|         43|       12|\n",
      "+----------+----------+----+------------------+------------------+----------+----------+---------------+-----------+---------+\n",
      "only showing top 5 rows"
     ]
    }
   ],
   "source": [
    "final_df.orderBy('start_count',ascending=False).show(5)"
   ]
  },
  {
   "cell_type": "code",
   "execution_count": 154,
   "metadata": {},
   "outputs": [
    {
     "data": {
      "application/vnd.jupyter.widget-view+json": {
       "model_id": "70094f47410e45c294c2c3de94e9a056",
       "version_major": 2,
       "version_minor": 0
      },
      "text/plain": [
       "VBox()"
      ]
     },
     "metadata": {},
     "output_type": "display_data"
    },
    {
     "data": {
      "application/vnd.jupyter.widget-view+json": {
       "model_id": "",
       "version_major": 2,
       "version_minor": 0
      },
      "text/plain": [
       "FloatProgress(value=0.0, bar_style='info', description='Progress:', layout=Layout(height='25px', width='50%'),…"
      ]
     },
     "metadata": {},
     "output_type": "display_data"
    },
    {
     "name": "stdout",
     "output_type": "stream",
     "text": [
      "['station_id', 'date', 'hour', 'docks_available', 'bikes_available', 'is_weekend', 'temp_float', 'rain_identifier', 'start_count', 'end_count']"
     ]
    }
   ],
   "source": [
    "final_df.columns"
   ]
  },
  {
   "cell_type": "code",
   "execution_count": 160,
   "metadata": {
    "scrolled": true
   },
   "outputs": [
    {
     "data": {
      "application/vnd.jupyter.widget-view+json": {
       "model_id": "341be2246e024d9fa7fdae0007f88151",
       "version_major": 2,
       "version_minor": 0
      },
      "text/plain": [
       "VBox()"
      ]
     },
     "metadata": {},
     "output_type": "display_data"
    },
    {
     "data": {
      "application/vnd.jupyter.widget-view+json": {
       "model_id": "",
       "version_major": 2,
       "version_minor": 0
      },
      "text/plain": [
       "FloatProgress(value=0.0, bar_style='info', description='Progress:', layout=Layout(height='25px', width='50%'),…"
      ]
     },
     "metadata": {},
     "output_type": "display_data"
    },
    {
     "name": "stdout",
     "output_type": "stream",
     "text": [
      "+----------+----+----------+----------+---------------+--------------------+----------------+--------------+--------------------+\n",
      "|station_id|hour|is_weekend|temp_float|rain_identifier|avg(docks_available)|avg(start_count)|avg(end_count)|avg(bikes_available)|\n",
      "+----------+----+----------+----------+---------------+--------------------+----------------+--------------+--------------------+\n",
      "|        16|  10|     false|      71.4|          false|   8.094444444444443|            null|          null|   6.905555555555556|\n",
      "|        57|  17|     false|      71.4|          false|  10.855555555555554|             4.5|           3.0|   4.144444444444445|\n",
      "|         3|   3|     false|      71.4|          false|  6.3999999999999995|            null|          null|                 8.6|\n",
      "|        66|   2|     false|      71.4|          false|   7.333333333333333|            null|          null|  11.666666666666666|\n",
      "|        22|  17|     false|      57.0|           true|                 6.0|            null|          null|                21.0|\n",
      "|        42|  16|     false|      57.0|           true|               11.55|            null|          null|                3.45|\n",
      "|        84|  10|     false|      57.0|           true|                11.0|            null|          null|                 4.0|\n",
      "|        82|  11|     false|      57.0|           true|               11.35|            null|          null|                3.65|\n",
      "|        46|  23|     false|      57.0|           true|                 4.0|            null|          null|                11.0|\n",
      "|        38|   3|     false|      57.0|           true|                 7.0|            null|          null|                 8.0|\n",
      "|        16|  13|     false|      57.0|           true|                 7.0|            null|          null|                 8.0|\n",
      "|        70|  14|     false|      57.0|           true|   7.333333333333333|            null|          null|  11.666666666666666|\n",
      "|        23|  15|     false|      58.8|          false|   8.833333333333334|            null|          null|   6.166666666666667|\n",
      "|        41|  23|     false|      58.8|          false|  12.258333333333333|            null|          null|  2.7416666666666667|\n",
      "|        72|  11|     false|      58.8|          false|  17.230555555555554|             3.0|           1.0|   5.769444444444445|\n",
      "|        49|  16|     false|      58.8|          false|  10.716666666666667|             2.0|           1.5|                7.95|\n",
      "|        67|  22|     false|      58.8|          false|  14.808333333333332|            null|          null|  12.191666666666668|\n",
      "|        47|  20|     false|      60.0|          false|            14.00625|             2.0|           1.0|             4.99375|\n",
      "|        31|  16|     false|      60.0|          false|   8.621428571428572|             1.0|           1.0|   6.378571428571428|\n",
      "|        31|  21|     false|      60.0|          false|   9.766666666666666|            null|          null|   5.233333333333333|\n",
      "+----------+----+----------+----------+---------------+--------------------+----------------+--------------+--------------------+\n",
      "only showing top 20 rows"
     ]
    }
   ],
   "source": [
    "final_group = final_df.groupBy('station_id', \n",
    "                 'hour', \n",
    "                 'is_weekend', \n",
    "                 'temp_float',\n",
    "                 'rain_identifier').agg(mean('docks_available')\n",
    "                      ,mean('start_count')\n",
    "                      ,mean('end_count')\n",
    "                      ,mean('bikes_available'))\n",
    "final_group.cache().show()"
   ]
  },
  {
   "cell_type": "code",
   "execution_count": null,
   "metadata": {},
   "outputs": [],
   "source": [
    "||avg(end_count)|avg(bikes_available)"
   ]
  },
  {
   "cell_type": "code",
   "execution_count": 164,
   "metadata": {},
   "outputs": [
    {
     "data": {
      "application/vnd.jupyter.widget-view+json": {
       "model_id": "4d2ec869f0ae4fa38bf183442f1d110b",
       "version_major": 2,
       "version_minor": 0
      },
      "text/plain": [
       "VBox()"
      ]
     },
     "metadata": {},
     "output_type": "display_data"
    },
    {
     "data": {
      "application/vnd.jupyter.widget-view+json": {
       "model_id": "",
       "version_major": 2,
       "version_minor": 0
      },
      "text/plain": [
       "FloatProgress(value=0.0, bar_style='info', description='Progress:', layout=Layout(height='25px', width='50%'),…"
      ]
     },
     "metadata": {},
     "output_type": "display_data"
    },
    {
     "name": "stdout",
     "output_type": "stream",
     "text": [
      "+----------+----+----------+----------+---------------+------------------+-----------+---------+------------------+\n",
      "|station_id|hour|is_weekend|temp_float|rain_identifier|   docks_available|start_count|end_count|   bikes_available|\n",
      "+----------+----+----------+----------+---------------+------------------+-----------+---------+------------------+\n",
      "|        16|  10|     false|      71.4|          false| 8.094444444444443|       null|     null| 6.905555555555556|\n",
      "|        57|  17|     false|      71.4|          false|10.855555555555554|        4.5|      3.0| 4.144444444444445|\n",
      "|         3|   3|     false|      71.4|          false|6.3999999999999995|       null|     null|               8.6|\n",
      "|        66|   2|     false|      71.4|          false| 7.333333333333333|       null|     null|11.666666666666666|\n",
      "|        22|  17|     false|      57.0|           true|               6.0|       null|     null|              21.0|\n",
      "+----------+----+----------+----------+---------------+------------------+-----------+---------+------------------+\n",
      "only showing top 5 rows"
     ]
    }
   ],
   "source": [
    "final_group=final_group.withColumnRenamed('avg(docks_available)','docks_available').withColumnRenamed('avg(start_count)','start_count')\\\n",
    ".withColumnRenamed('avg(end_count)','end_count').withColumnRenamed('avg(bikes_available)','bikes_available')\n",
    "final_group.show(5)"
   ]
  },
  {
   "cell_type": "code",
   "execution_count": 40,
   "metadata": {
    "scrolled": false
   },
   "outputs": [
    {
     "data": {
      "application/vnd.jupyter.widget-view+json": {
       "model_id": "7e5f01b082ff4159a29a1ce119c30d3f",
       "version_major": 2,
       "version_minor": 0
      },
      "text/plain": [
       "VBox()"
      ]
     },
     "metadata": {},
     "output_type": "display_data"
    },
    {
     "data": {
      "application/vnd.jupyter.widget-view+json": {
       "model_id": "",
       "version_major": 2,
       "version_minor": 0
      },
      "text/plain": [
       "FloatProgress(value=0.0, bar_style='info', description='Progress:', layout=Layout(height='25px', width='50%'),…"
      ]
     },
     "metadata": {},
     "output_type": "display_data"
    }
   ],
   "source": [
    "# save to our s3 bucket\n",
    "#final_group.write.mode(\"overwrite\")\\\n",
    "        #.parquet(\"s3://msds694.proj/data/parquet/final_group_1\")"
   ]
  },
  {
   "cell_type": "code",
   "execution_count": 32,
   "metadata": {},
   "outputs": [
    {
     "data": {
      "application/vnd.jupyter.widget-view+json": {
       "model_id": "76e66bab671b4b0c83d9550910855b5a",
       "version_major": 2,
       "version_minor": 0
      },
      "text/plain": [
       "VBox()"
      ]
     },
     "metadata": {},
     "output_type": "display_data"
    },
    {
     "data": {
      "application/vnd.jupyter.widget-view+json": {
       "model_id": "",
       "version_major": 2,
       "version_minor": 0
      },
      "text/plain": [
       "FloatProgress(value=0.0, bar_style='info', description='Progress:', layout=Layout(height='25px', width='50%'),…"
      ]
     },
     "metadata": {},
     "output_type": "display_data"
    }
   ],
   "source": [
    "final_df.write.option(\"path\", \"/df\").saveAsTable('final_data_frame')"
   ]
  },
  {
   "cell_type": "code",
   "execution_count": 4,
   "metadata": {
    "scrolled": false
   },
   "outputs": [
    {
     "data": {
      "application/vnd.jupyter.widget-view+json": {
       "model_id": "9d1800d72d2947a48032d4d4c2935ba9",
       "version_major": 2,
       "version_minor": 0
      },
      "text/plain": [
       "VBox()"
      ]
     },
     "metadata": {},
     "output_type": "display_data"
    },
    {
     "data": {
      "application/vnd.jupyter.widget-view+json": {
       "model_id": "",
       "version_major": 2,
       "version_minor": 0
      },
      "text/plain": [
       "FloatProgress(value=0.0, bar_style='info', description='Progress:', layout=Layout(height='25px', width='50%'),…"
      ]
     },
     "metadata": {},
     "output_type": "display_data"
    }
   ],
   "source": [
    "df=ss.sql(\"select * from parquet. `s3://msds694.proj/data/parquet/final_group`\")"
   ]
  },
  {
   "cell_type": "code",
   "execution_count": 36,
   "metadata": {},
   "outputs": [
    {
     "data": {
      "application/vnd.jupyter.widget-view+json": {
       "model_id": "d557a0cd5b864df9a4ca7122ce69efef",
       "version_major": 2,
       "version_minor": 0
      },
      "text/plain": [
       "VBox()"
      ]
     },
     "metadata": {},
     "output_type": "display_data"
    },
    {
     "data": {
      "application/vnd.jupyter.widget-view+json": {
       "model_id": "",
       "version_major": 2,
       "version_minor": 0
      },
      "text/plain": [
       "FloatProgress(value=0.0, bar_style='info', description='Progress:', layout=Layout(height='25px', width='50%'),…"
      ]
     },
     "metadata": {},
     "output_type": "display_data"
    }
   ],
   "source": [
    "df=ss.read.parquet(\"s3://msds694.proj/data/parquet/final_group\")"
   ]
  },
  {
   "cell_type": "markdown",
   "metadata": {},
   "source": [
    "# group-project assignment 2 stops here"
   ]
  },
  {
   "cell_type": "markdown",
   "metadata": {},
   "source": [
    "# Machine learning"
   ]
  },
  {
   "cell_type": "code",
   "execution_count": 6,
   "metadata": {
    "scrolled": false
   },
   "outputs": [
    {
     "data": {
      "application/vnd.jupyter.widget-view+json": {
       "model_id": "893b94cc603c47a69c52bb4cd411b625",
       "version_major": 2,
       "version_minor": 0
      },
      "text/plain": [
       "VBox()"
      ]
     },
     "metadata": {},
     "output_type": "display_data"
    },
    {
     "data": {
      "application/vnd.jupyter.widget-view+json": {
       "model_id": "",
       "version_major": 2,
       "version_minor": 0
      },
      "text/plain": [
       "FloatProgress(value=0.0, bar_style='info', description='Progress:', layout=Layout(height='25px', width='50%'),…"
      ]
     },
     "metadata": {},
     "output_type": "display_data"
    }
   ],
   "source": [
    "df=ss.read.parquet(\"s3://msds694.proj/data/parquet/final_group\")"
   ]
  },
  {
   "cell_type": "code",
   "execution_count": 7,
   "metadata": {
    "scrolled": true
   },
   "outputs": [
    {
     "data": {
      "application/vnd.jupyter.widget-view+json": {
       "model_id": "653c7669c24a4f5b9c34d29f9fc77587",
       "version_major": 2,
       "version_minor": 0
      },
      "text/plain": [
       "VBox()"
      ]
     },
     "metadata": {},
     "output_type": "display_data"
    },
    {
     "data": {
      "application/vnd.jupyter.widget-view+json": {
       "model_id": "",
       "version_major": 2,
       "version_minor": 0
      },
      "text/plain": [
       "FloatProgress(value=0.0, bar_style='info', description='Progress:', layout=Layout(height='25px', width='50%'),…"
      ]
     },
     "metadata": {},
     "output_type": "display_data"
    },
    {
     "name": "stdout",
     "output_type": "stream",
     "text": [
      "+------------------+------+\n",
      "|       start_count| count|\n",
      "+------------------+------+\n",
      "|              null|409306|\n",
      "|               1.0| 31727|\n",
      "|               2.0| 17190|\n",
      "|               3.0|  7908|\n",
      "|               1.5|  4216|\n",
      "|               4.0|  4017|\n",
      "|               2.5|  2354|\n",
      "|               5.0|  2244|\n",
      "|1.6666666666666667|  1343|\n",
      "|               6.0|  1239|\n",
      "|1.3333333333333333|  1199|\n",
      "|               3.5|  1105|\n",
      "|2.3333333333333335|   978|\n",
      "|2.6666666666666665|   782|\n",
      "|               7.0|   721|\n",
      "|               4.5|   615|\n",
      "|3.3333333333333335|   492|\n",
      "|              1.75|   461|\n",
      "|               8.0|   442|\n",
      "|              2.25|   399|\n",
      "+------------------+------+\n",
      "only showing top 20 rows"
     ]
    }
   ],
   "source": [
    "df.groupBy(df['start_count']).count().orderBy('count',ascending=False).show()"
   ]
  },
  {
   "cell_type": "code",
   "execution_count": 8,
   "metadata": {},
   "outputs": [
    {
     "data": {
      "application/vnd.jupyter.widget-view+json": {
       "model_id": "1663047dee5844fd9908d295c72420f5",
       "version_major": 2,
       "version_minor": 0
      },
      "text/plain": [
       "VBox()"
      ]
     },
     "metadata": {},
     "output_type": "display_data"
    },
    {
     "data": {
      "application/vnd.jupyter.widget-view+json": {
       "model_id": "",
       "version_major": 2,
       "version_minor": 0
      },
      "text/plain": [
       "FloatProgress(value=0.0, bar_style='info', description='Progress:', layout=Layout(height='25px', width='50%'),…"
      ]
     },
     "metadata": {},
     "output_type": "display_data"
    }
   ],
   "source": [
    "dfrp=df.na.fill(0)"
   ]
  },
  {
   "cell_type": "code",
   "execution_count": 9,
   "metadata": {},
   "outputs": [
    {
     "data": {
      "application/vnd.jupyter.widget-view+json": {
       "model_id": "e90dafdc5aae447a8c032f7d9590c82a",
       "version_major": 2,
       "version_minor": 0
      },
      "text/plain": [
       "VBox()"
      ]
     },
     "metadata": {},
     "output_type": "display_data"
    },
    {
     "data": {
      "application/vnd.jupyter.widget-view+json": {
       "model_id": "",
       "version_major": 2,
       "version_minor": 0
      },
      "text/plain": [
       "FloatProgress(value=0.0, bar_style='info', description='Progress:', layout=Layout(height='25px', width='50%'),…"
      ]
     },
     "metadata": {},
     "output_type": "display_data"
    },
    {
     "name": "stdout",
     "output_type": "stream",
     "text": [
      "+----------+----+----------+----------+---------------+------------------+-----------+---------+------------------+\n",
      "|station_id|hour|is_weekend|temp_float|rain_identifier|   docks_available|start_count|end_count|   bikes_available|\n",
      "+----------+----+----------+----------+---------------+------------------+-----------+---------+------------------+\n",
      "|        28|   0|      true|      56.0|           true|              11.0|        0.0|      0.0|              12.0|\n",
      "|        74|  13|      true|      56.0|           true|              10.0|        0.0|      0.0|              13.0|\n",
      "|        21|  17|      true|      56.0|           true|               8.0|        0.0|      0.0|               7.0|\n",
      "|        48|  20|      true|      56.0|           true|              10.0|        0.0|      0.0|               5.0|\n",
      "|        32|  23|      true|      56.0|           true|               5.0|        0.0|      0.0|               6.0|\n",
      "|        77|  18|      true|      56.0|           true|2.3666666666666667|        0.0|      0.0|24.633333333333333|\n",
      "|         6|   4|      true|      56.0|           true|              10.0|        0.0|      0.0|               5.0|\n",
      "|        45|   7|      true|      56.0|           true|10.783333333333333|        0.0|      0.0| 4.216666666666667|\n",
      "|        47|   9|      true|      56.4|          false|             12.55|        0.0|      0.0|              6.45|\n",
      "|        13|  19|      true|      56.4|          false|              7.25|        0.0|      0.0|              7.75|\n",
      "|        70|  17|      true|      56.4|          false|               8.5|        2.0|      2.0|              10.5|\n",
      "|        82|  10|      true|      56.4|          false|               7.0|        0.0|      0.0|               8.0|\n",
      "|         7|  18|      true|      56.4|          false|               8.0|        0.0|      0.0|               7.0|\n",
      "|        36|  19|      true|      56.4|          false|               5.0|        0.0|      0.0|              10.0|\n",
      "|        72|   8|      true|      56.4|          false|              10.0|        0.0|      0.0|              13.0|\n",
      "|         8|   0|      true|      56.4|          false|               9.0|        0.0|      0.0|               6.0|\n",
      "|         4|  21|      true|      56.4|          false| 5.166666666666667|        0.0|      0.0| 5.833333333333333|\n",
      "|        67|   9|     false|      63.0|          false|15.145614035087721|        2.0|      8.0| 11.65438596491228|\n",
      "|         2|   4|     false|      63.0|          false|              13.6|        0.0|      0.0|              13.4|\n",
      "|        38|   5|     false|      63.0|          false|               9.4|        0.0|      0.0|               5.6|\n",
      "+----------+----+----------+----------+---------------+------------------+-----------+---------+------------------+\n",
      "only showing top 20 rows"
     ]
    }
   ],
   "source": [
    "dfrp.show()"
   ]
  },
  {
   "cell_type": "code",
   "execution_count": 10,
   "metadata": {
    "scrolled": true
   },
   "outputs": [
    {
     "data": {
      "application/vnd.jupyter.widget-view+json": {
       "model_id": "13389c90e8dd447780ce01f8ef10f802",
       "version_major": 2,
       "version_minor": 0
      },
      "text/plain": [
       "VBox()"
      ]
     },
     "metadata": {},
     "output_type": "display_data"
    },
    {
     "data": {
      "application/vnd.jupyter.widget-view+json": {
       "model_id": "",
       "version_major": 2,
       "version_minor": 0
      },
      "text/plain": [
       "FloatProgress(value=0.0, bar_style='info', description='Progress:', layout=Layout(height='25px', width='50%'),…"
      ]
     },
     "metadata": {},
     "output_type": "display_data"
    }
   ],
   "source": [
    "dfrp1=dfrp.withColumn('is_weekend',dfrp['is_weekend'].cast('integer'))"
   ]
  },
  {
   "cell_type": "code",
   "execution_count": 11,
   "metadata": {},
   "outputs": [
    {
     "data": {
      "application/vnd.jupyter.widget-view+json": {
       "model_id": "9ee9c4b9f3db4abfa1b1ca56dd2d1840",
       "version_major": 2,
       "version_minor": 0
      },
      "text/plain": [
       "VBox()"
      ]
     },
     "metadata": {},
     "output_type": "display_data"
    },
    {
     "data": {
      "application/vnd.jupyter.widget-view+json": {
       "model_id": "",
       "version_major": 2,
       "version_minor": 0
      },
      "text/plain": [
       "FloatProgress(value=0.0, bar_style='info', description='Progress:', layout=Layout(height='25px', width='50%'),…"
      ]
     },
     "metadata": {},
     "output_type": "display_data"
    },
    {
     "name": "stdout",
     "output_type": "stream",
     "text": [
      "+----------+----+----------+----------+---------------+------------------+-----------+---------+------------------+\n",
      "|station_id|hour|is_weekend|temp_float|rain_identifier|   docks_available|start_count|end_count|   bikes_available|\n",
      "+----------+----+----------+----------+---------------+------------------+-----------+---------+------------------+\n",
      "|        28|   0|         1|      56.0|           true|              11.0|        0.0|      0.0|              12.0|\n",
      "|        74|  13|         1|      56.0|           true|              10.0|        0.0|      0.0|              13.0|\n",
      "|        21|  17|         1|      56.0|           true|               8.0|        0.0|      0.0|               7.0|\n",
      "|        48|  20|         1|      56.0|           true|              10.0|        0.0|      0.0|               5.0|\n",
      "|        32|  23|         1|      56.0|           true|               5.0|        0.0|      0.0|               6.0|\n",
      "|        77|  18|         1|      56.0|           true|2.3666666666666667|        0.0|      0.0|24.633333333333333|\n",
      "|         6|   4|         1|      56.0|           true|              10.0|        0.0|      0.0|               5.0|\n",
      "|        45|   7|         1|      56.0|           true|10.783333333333333|        0.0|      0.0| 4.216666666666667|\n",
      "|        47|   9|         1|      56.4|          false|             12.55|        0.0|      0.0|              6.45|\n",
      "|        13|  19|         1|      56.4|          false|              7.25|        0.0|      0.0|              7.75|\n",
      "|        70|  17|         1|      56.4|          false|               8.5|        2.0|      2.0|              10.5|\n",
      "|        82|  10|         1|      56.4|          false|               7.0|        0.0|      0.0|               8.0|\n",
      "|         7|  18|         1|      56.4|          false|               8.0|        0.0|      0.0|               7.0|\n",
      "|        36|  19|         1|      56.4|          false|               5.0|        0.0|      0.0|              10.0|\n",
      "|        72|   8|         1|      56.4|          false|              10.0|        0.0|      0.0|              13.0|\n",
      "|         8|   0|         1|      56.4|          false|               9.0|        0.0|      0.0|               6.0|\n",
      "|         4|  21|         1|      56.4|          false| 5.166666666666667|        0.0|      0.0| 5.833333333333333|\n",
      "|        67|   9|         0|      63.0|          false|15.145614035087721|        2.0|      8.0| 11.65438596491228|\n",
      "|         2|   4|         0|      63.0|          false|              13.6|        0.0|      0.0|              13.4|\n",
      "|        38|   5|         0|      63.0|          false|               9.4|        0.0|      0.0|               5.6|\n",
      "+----------+----+----------+----------+---------------+------------------+-----------+---------+------------------+\n",
      "only showing top 20 rows"
     ]
    }
   ],
   "source": [
    "dfrp1.show()"
   ]
  },
  {
   "cell_type": "code",
   "execution_count": 12,
   "metadata": {},
   "outputs": [
    {
     "data": {
      "application/vnd.jupyter.widget-view+json": {
       "model_id": "0ef7bc528c944abaa780aa4fcbe07da5",
       "version_major": 2,
       "version_minor": 0
      },
      "text/plain": [
       "VBox()"
      ]
     },
     "metadata": {},
     "output_type": "display_data"
    },
    {
     "data": {
      "application/vnd.jupyter.widget-view+json": {
       "model_id": "",
       "version_major": 2,
       "version_minor": 0
      },
      "text/plain": [
       "FloatProgress(value=0.0, bar_style='info', description='Progress:', layout=Layout(height='25px', width='50%'),…"
      ]
     },
     "metadata": {},
     "output_type": "display_data"
    }
   ],
   "source": [
    "#converting strings to numeric values\n",
    "from pyspark.ml.feature import StringIndexer\n",
    "\n",
    "def indexStringColumns(df, cols):\n",
    "    #variable newdf will be updated several times\n",
    "    newdf = df\n",
    "    \n",
    "    for c in cols:\n",
    "        #For each given colum, fits StringIndexerModel.\n",
    "        si = StringIndexer(inputCol=c, outputCol=c+\"-num\",stringOrderType=\"alphabetAsc\")\n",
    "        sm = si.fit(newdf)\n",
    "        #Creates a DataFame by putting the transformed values in the new colum with suffix \"-num\" \n",
    "        #and then drops the original columns.\n",
    "        #and drop the \"-num\" suffix. \n",
    "        newdf = sm.transform(newdf).drop(c)\n",
    "        newdf = newdf.withColumnRenamed(c+\"-num\", c)\n",
    "    return newdf\n",
    "\n",
    "dfnumeric = indexStringColumns(dfrp1, ['rain_identifier'])"
   ]
  },
  {
   "cell_type": "code",
   "execution_count": 13,
   "metadata": {},
   "outputs": [
    {
     "data": {
      "application/vnd.jupyter.widget-view+json": {
       "model_id": "f4cc4dba1dfe488b94ca0fc43c29f2dd",
       "version_major": 2,
       "version_minor": 0
      },
      "text/plain": [
       "VBox()"
      ]
     },
     "metadata": {},
     "output_type": "display_data"
    },
    {
     "data": {
      "application/vnd.jupyter.widget-view+json": {
       "model_id": "",
       "version_major": 2,
       "version_minor": 0
      },
      "text/plain": [
       "FloatProgress(value=0.0, bar_style='info', description='Progress:', layout=Layout(height='25px', width='50%'),…"
      ]
     },
     "metadata": {},
     "output_type": "display_data"
    },
    {
     "name": "stdout",
     "output_type": "stream",
     "text": [
      "+----------+----+----------+----------+---------------+-----------+---------+---------------+---------------+\n",
      "|station_id|hour|is_weekend|temp_float|docks_available|start_count|end_count|bikes_available|rain_identifier|\n",
      "+----------+----+----------+----------+---------------+-----------+---------+---------------+---------------+\n",
      "|        28|   0|         1|      56.0|           11.0|        0.0|      0.0|           12.0|            1.0|\n",
      "|        74|  13|         1|      56.0|           10.0|        0.0|      0.0|           13.0|            1.0|\n",
      "|        21|  17|         1|      56.0|            8.0|        0.0|      0.0|            7.0|            1.0|\n",
      "+----------+----+----------+----------+---------------+-----------+---------+---------------+---------------+\n",
      "only showing top 3 rows"
     ]
    }
   ],
   "source": [
    "dfnumeric.show(3)"
   ]
  },
  {
   "cell_type": "code",
   "execution_count": 14,
   "metadata": {},
   "outputs": [
    {
     "data": {
      "application/vnd.jupyter.widget-view+json": {
       "model_id": "2edd54d898024b44a14fa07bac2b9386",
       "version_major": 2,
       "version_minor": 0
      },
      "text/plain": [
       "VBox()"
      ]
     },
     "metadata": {},
     "output_type": "display_data"
    },
    {
     "data": {
      "application/vnd.jupyter.widget-view+json": {
       "model_id": "",
       "version_major": 2,
       "version_minor": 0
      },
      "text/plain": [
       "FloatProgress(value=0.0, bar_style='info', description='Progress:', layout=Layout(height='25px', width='50%'),…"
      ]
     },
     "metadata": {},
     "output_type": "display_data"
    }
   ],
   "source": [
    "df_model=dfnumeric.select('station_id','hour','is_weekend','temp_float','docks_available','start_count','end_count'\\\n",
    "                   ,'rain_identifier','bikes_available')"
   ]
  },
  {
   "cell_type": "code",
   "execution_count": 15,
   "metadata": {},
   "outputs": [
    {
     "data": {
      "application/vnd.jupyter.widget-view+json": {
       "model_id": "0d58dccbbabc4ec08b6a888980147d03",
       "version_major": 2,
       "version_minor": 0
      },
      "text/plain": [
       "VBox()"
      ]
     },
     "metadata": {},
     "output_type": "display_data"
    },
    {
     "data": {
      "application/vnd.jupyter.widget-view+json": {
       "model_id": "",
       "version_major": 2,
       "version_minor": 0
      },
      "text/plain": [
       "FloatProgress(value=0.0, bar_style='info', description='Progress:', layout=Layout(height='25px', width='50%'),…"
      ]
     },
     "metadata": {},
     "output_type": "display_data"
    }
   ],
   "source": [
    "df_model=df_model.withColumn('bikes_available',dfrp['bikes_available'].cast('integer'))"
   ]
  },
  {
   "cell_type": "code",
   "execution_count": 16,
   "metadata": {},
   "outputs": [
    {
     "data": {
      "application/vnd.jupyter.widget-view+json": {
       "model_id": "2ffc594314af4b60a5ca2104640eb7f2",
       "version_major": 2,
       "version_minor": 0
      },
      "text/plain": [
       "VBox()"
      ]
     },
     "metadata": {},
     "output_type": "display_data"
    },
    {
     "data": {
      "application/vnd.jupyter.widget-view+json": {
       "model_id": "",
       "version_major": 2,
       "version_minor": 0
      },
      "text/plain": [
       "FloatProgress(value=0.0, bar_style='info', description='Progress:', layout=Layout(height='25px', width='50%'),…"
      ]
     },
     "metadata": {},
     "output_type": "display_data"
    },
    {
     "name": "stdout",
     "output_type": "stream",
     "text": [
      "+----------+----+----------+----------+---------------+-----------+---------+---------------+---------------+\n",
      "|station_id|hour|is_weekend|temp_float|docks_available|start_count|end_count|rain_identifier|bikes_available|\n",
      "+----------+----+----------+----------+---------------+-----------+---------+---------------+---------------+\n",
      "|        28|   0|         1|      56.0|           11.0|        0.0|      0.0|            1.0|             12|\n",
      "|        74|  13|         1|      56.0|           10.0|        0.0|      0.0|            1.0|             13|\n",
      "|        21|  17|         1|      56.0|            8.0|        0.0|      0.0|            1.0|              7|\n",
      "+----------+----+----------+----------+---------------+-----------+---------+---------------+---------------+\n",
      "only showing top 3 rows"
     ]
    }
   ],
   "source": [
    "df_model.show(3)"
   ]
  },
  {
   "cell_type": "code",
   "execution_count": 17,
   "metadata": {},
   "outputs": [
    {
     "data": {
      "application/vnd.jupyter.widget-view+json": {
       "model_id": "4f80357f93664269abe474bef1367b96",
       "version_major": 2,
       "version_minor": 0
      },
      "text/plain": [
       "VBox()"
      ]
     },
     "metadata": {},
     "output_type": "display_data"
    },
    {
     "data": {
      "application/vnd.jupyter.widget-view+json": {
       "model_id": "",
       "version_major": 2,
       "version_minor": 0
      },
      "text/plain": [
       "FloatProgress(value=0.0, bar_style='info', description='Progress:', layout=Layout(height='25px', width='50%'),…"
      ]
     },
     "metadata": {},
     "output_type": "display_data"
    }
   ],
   "source": [
    "# Merging the data with Vector Assembler.\n",
    "va = VectorAssembler(outputCol=\"features\", inputCols=dfnumeric.columns[0:-1]) #except the last col.\n",
    "bikepoints = va.transform(df_model).select(\"features\", \"bikes_available\")"
   ]
  },
  {
   "cell_type": "code",
   "execution_count": 18,
   "metadata": {},
   "outputs": [
    {
     "data": {
      "application/vnd.jupyter.widget-view+json": {
       "model_id": "d307151f4a3c476c91055de928906f06",
       "version_major": 2,
       "version_minor": 0
      },
      "text/plain": [
       "VBox()"
      ]
     },
     "metadata": {},
     "output_type": "display_data"
    },
    {
     "data": {
      "application/vnd.jupyter.widget-view+json": {
       "model_id": "",
       "version_major": 2,
       "version_minor": 0
      },
      "text/plain": [
       "FloatProgress(value=0.0, bar_style='info', description='Progress:', layout=Layout(height='25px', width='50%'),…"
      ]
     },
     "metadata": {},
     "output_type": "display_data"
    },
    {
     "name": "stdout",
     "output_type": "stream",
     "text": [
      "+--------------------+---------------+\n",
      "|            features|bikes_available|\n",
      "+--------------------+---------------+\n",
      "|[28.0,0.0,1.0,56....|             12|\n",
      "|[74.0,13.0,1.0,56...|             13|\n",
      "|[21.0,17.0,1.0,56...|              7|\n",
      "+--------------------+---------------+\n",
      "only showing top 3 rows"
     ]
    }
   ],
   "source": [
    "bikepoints.show(3)"
   ]
  },
  {
   "cell_type": "code",
   "execution_count": 19,
   "metadata": {},
   "outputs": [
    {
     "data": {
      "application/vnd.jupyter.widget-view+json": {
       "model_id": "4a279b7241c64f55a9df3c888d5d8c2e",
       "version_major": 2,
       "version_minor": 0
      },
      "text/plain": [
       "VBox()"
      ]
     },
     "metadata": {},
     "output_type": "display_data"
    },
    {
     "data": {
      "application/vnd.jupyter.widget-view+json": {
       "model_id": "",
       "version_major": 2,
       "version_minor": 0
      },
      "text/plain": [
       "FloatProgress(value=0.0, bar_style='info', description='Progress:', layout=Layout(height='25px', width='50%'),…"
      ]
     },
     "metadata": {},
     "output_type": "display_data"
    }
   ],
   "source": [
    "bikepoints=bikepoints.withColumnRenamed('bikes_available','label')"
   ]
  },
  {
   "cell_type": "code",
   "execution_count": 20,
   "metadata": {},
   "outputs": [
    {
     "data": {
      "application/vnd.jupyter.widget-view+json": {
       "model_id": "8833db291ab842a098ab47c9b4391bab",
       "version_major": 2,
       "version_minor": 0
      },
      "text/plain": [
       "VBox()"
      ]
     },
     "metadata": {},
     "output_type": "display_data"
    },
    {
     "data": {
      "application/vnd.jupyter.widget-view+json": {
       "model_id": "",
       "version_major": 2,
       "version_minor": 0
      },
      "text/plain": [
       "FloatProgress(value=0.0, bar_style='info', description='Progress:', layout=Layout(height='25px', width='50%'),…"
      ]
     },
     "metadata": {},
     "output_type": "display_data"
    }
   ],
   "source": [
    "# Create Training and Test data.\n",
    "biketsets = bikepoints.randomSplit([0.8, 0.2])\n",
    "biketrain = biketsets[0].cache()\n",
    "bikevalid = biketsets[1].cache()"
   ]
  },
  {
   "cell_type": "markdown",
   "metadata": {},
   "source": [
    "# Decision Tree"
   ]
  },
  {
   "cell_type": "code",
   "execution_count": 21,
   "metadata": {},
   "outputs": [
    {
     "data": {
      "application/vnd.jupyter.widget-view+json": {
       "model_id": "0e88cafd42e3478a98ca947c6e6d1247",
       "version_major": 2,
       "version_minor": 0
      },
      "text/plain": [
       "VBox()"
      ]
     },
     "metadata": {},
     "output_type": "display_data"
    },
    {
     "data": {
      "application/vnd.jupyter.widget-view+json": {
       "model_id": "",
       "version_major": 2,
       "version_minor": 0
      },
      "text/plain": [
       "FloatProgress(value=0.0, bar_style='info', description='Progress:', layout=Layout(height='25px', width='50%'),…"
      ]
     },
     "metadata": {},
     "output_type": "display_data"
    }
   ],
   "source": [
    "# Train the data.\n",
    "from pyspark.ml.classification import DecisionTreeClassifier\n",
    "dt = DecisionTreeClassifier(maxDepth=20, maxBins= 32, minInstancesPerNode=1, minInfoGain = 0)\n",
    "dtmodel = dt.fit(biketrain)"
   ]
  },
  {
   "cell_type": "code",
   "execution_count": 22,
   "metadata": {},
   "outputs": [
    {
     "data": {
      "application/vnd.jupyter.widget-view+json": {
       "model_id": "0ee29422d2624bf1a95907c2ff8a60bd",
       "version_major": 2,
       "version_minor": 0
      },
      "text/plain": [
       "VBox()"
      ]
     },
     "metadata": {},
     "output_type": "display_data"
    },
    {
     "data": {
      "application/vnd.jupyter.widget-view+json": {
       "model_id": "",
       "version_major": 2,
       "version_minor": 0
      },
      "text/plain": [
       "FloatProgress(value=0.0, bar_style='info', description='Progress:', layout=Layout(height='25px', width='50%'),…"
      ]
     },
     "metadata": {},
     "output_type": "display_data"
    }
   ],
   "source": [
    "dtpredicts = dtmodel.transform(bikevalid)"
   ]
  },
  {
   "cell_type": "code",
   "execution_count": 26,
   "metadata": {},
   "outputs": [
    {
     "data": {
      "application/vnd.jupyter.widget-view+json": {
       "model_id": "6e63d6f92366457eaf2fe871a914ff3a",
       "version_major": 2,
       "version_minor": 0
      },
      "text/plain": [
       "VBox()"
      ]
     },
     "metadata": {},
     "output_type": "display_data"
    },
    {
     "data": {
      "application/vnd.jupyter.widget-view+json": {
       "model_id": "",
       "version_major": 2,
       "version_minor": 0
      },
      "text/plain": [
       "FloatProgress(value=0.0, bar_style='info', description='Progress:', layout=Layout(height='25px', width='50%'),…"
      ]
     },
     "metadata": {},
     "output_type": "display_data"
    },
    {
     "name": "stdout",
     "output_type": "stream",
     "text": [
      "0.9996179522239202"
     ]
    }
   ],
   "source": [
    "metrics = MulticlassClassificationEvaluator()\\\n",
    "                .setLabelCol(\"label\")\\\n",
    "                .setPredictionCol(\"prediction\")\n",
    "metrics.setMetricName(\"accuracy\") # \"f1\", \"weightedPrecision\", \"weightedRecall\", \"accuracy\" (defulat)\n",
    "metrics.evaluate(dtpredicts)\n"
   ]
  },
  {
   "cell_type": "code",
   "execution_count": 28,
   "metadata": {},
   "outputs": [
    {
     "data": {
      "application/vnd.jupyter.widget-view+json": {
       "model_id": "441a4b58ce5b4b1c8e31ceac502697da",
       "version_major": 2,
       "version_minor": 0
      },
      "text/plain": [
       "VBox()"
      ]
     },
     "metadata": {},
     "output_type": "display_data"
    },
    {
     "data": {
      "application/vnd.jupyter.widget-view+json": {
       "model_id": "",
       "version_major": 2,
       "version_minor": 0
      },
      "text/plain": [
       "FloatProgress(value=0.0, bar_style='info', description='Progress:', layout=Layout(height='25px', width='50%'),…"
      ]
     },
     "metadata": {},
     "output_type": "display_data"
    },
    {
     "name": "stdout",
     "output_type": "stream",
     "text": [
      "0.9996179522239201"
     ]
    }
   ],
   "source": [
    "metrics.setMetricName(\"weightedRecall\") # \"f1\", \"weightedPrecision\", \"weightedRecall\", \"accuracy\" (defulat)\n",
    "metrics.evaluate(dtpredicts)"
   ]
  },
  {
   "cell_type": "code",
   "execution_count": 27,
   "metadata": {},
   "outputs": [
    {
     "data": {
      "application/vnd.jupyter.widget-view+json": {
       "model_id": "ee7803c1040444edb135fa1f1d009b92",
       "version_major": 2,
       "version_minor": 0
      },
      "text/plain": [
       "VBox()"
      ]
     },
     "metadata": {},
     "output_type": "display_data"
    },
    {
     "data": {
      "application/vnd.jupyter.widget-view+json": {
       "model_id": "",
       "version_major": 2,
       "version_minor": 0
      },
      "text/plain": [
       "FloatProgress(value=0.0, bar_style='info', description='Progress:', layout=Layout(height='25px', width='50%'),…"
      ]
     },
     "metadata": {},
     "output_type": "display_data"
    },
    {
     "name": "stdout",
     "output_type": "stream",
     "text": [
      "0.9996209305097534"
     ]
    }
   ],
   "source": [
    "metrics.setMetricName(\"f1\")\n",
    "metrics.evaluate(dtpredicts)"
   ]
  },
  {
   "cell_type": "markdown",
   "metadata": {},
   "source": [
    "# random Forest"
   ]
  },
  {
   "cell_type": "code",
   "execution_count": 98,
   "metadata": {},
   "outputs": [
    {
     "data": {
      "application/vnd.jupyter.widget-view+json": {
       "model_id": "eb41e7cd767b4639888c002578ab1a55",
       "version_major": 2,
       "version_minor": 0
      },
      "text/plain": [
       "VBox()"
      ]
     },
     "metadata": {},
     "output_type": "display_data"
    },
    {
     "data": {
      "application/vnd.jupyter.widget-view+json": {
       "model_id": "",
       "version_major": 2,
       "version_minor": 0
      },
      "text/plain": [
       "FloatProgress(value=0.0, bar_style='info', description='Progress:', layout=Layout(height='25px', width='50%'),…"
      ]
     },
     "metadata": {},
     "output_type": "display_data"
    }
   ],
   "source": [
    "from pyspark.ml.classification import RandomForestClassifier\n",
    "rf = RandomForestClassifier(maxDepth=5, numTrees=10,maxBins=2, seed=7)\n",
    "rfmodel = rf.fit(biketrain)"
   ]
  },
  {
   "cell_type": "code",
   "execution_count": 99,
   "metadata": {},
   "outputs": [
    {
     "data": {
      "application/vnd.jupyter.widget-view+json": {
       "model_id": "fc3c125bf7a04aff90e181b592080b6d",
       "version_major": 2,
       "version_minor": 0
      },
      "text/plain": [
       "VBox()"
      ]
     },
     "metadata": {},
     "output_type": "display_data"
    },
    {
     "data": {
      "application/vnd.jupyter.widget-view+json": {
       "model_id": "",
       "version_major": 2,
       "version_minor": 0
      },
      "text/plain": [
       "FloatProgress(value=0.0, bar_style='info', description='Progress:', layout=Layout(height='25px', width='50%'),…"
      ]
     },
     "metadata": {},
     "output_type": "display_data"
    }
   ],
   "source": [
    "validpredicts = rfmodel.transform(bikevalid)"
   ]
  },
  {
   "cell_type": "code",
   "execution_count": 112,
   "metadata": {},
   "outputs": [
    {
     "data": {
      "application/vnd.jupyter.widget-view+json": {
       "model_id": "bdcb890ebdaa4d13b4ec4ed9aa5d3bb4",
       "version_major": 2,
       "version_minor": 0
      },
      "text/plain": [
       "VBox()"
      ]
     },
     "metadata": {},
     "output_type": "display_data"
    },
    {
     "data": {
      "application/vnd.jupyter.widget-view+json": {
       "model_id": "",
       "version_major": 2,
       "version_minor": 0
      },
      "text/plain": [
       "FloatProgress(value=0.0, bar_style='info', description='Progress:', layout=Layout(height='25px', width='50%'),…"
      ]
     },
     "metadata": {},
     "output_type": "display_data"
    }
   ],
   "source": [
    "f1=MulticlassClassificationEvaluator().setMetricName(\"f1\").evaluate(validpredicts)"
   ]
  },
  {
   "cell_type": "code",
   "execution_count": 117,
   "metadata": {},
   "outputs": [
    {
     "data": {
      "application/vnd.jupyter.widget-view+json": {
       "model_id": "acefedc226164c068546bc27e18849e7",
       "version_major": 2,
       "version_minor": 0
      },
      "text/plain": [
       "VBox()"
      ]
     },
     "metadata": {},
     "output_type": "display_data"
    },
    {
     "data": {
      "application/vnd.jupyter.widget-view+json": {
       "model_id": "",
       "version_major": 2,
       "version_minor": 0
      },
      "text/plain": [
       "FloatProgress(value=0.0, bar_style='info', description='Progress:', layout=Layout(height='25px', width='50%'),…"
      ]
     },
     "metadata": {},
     "output_type": "display_data"
    },
    {
     "name": "stdout",
     "output_type": "stream",
     "text": [
      "0.23709162148594365"
     ]
    }
   ],
   "source": [
    "f1"
   ]
  },
  {
   "cell_type": "code",
   "execution_count": 116,
   "metadata": {},
   "outputs": [
    {
     "data": {
      "application/vnd.jupyter.widget-view+json": {
       "model_id": "2b681623ad5348d1b217e12f2bec9056",
       "version_major": 2,
       "version_minor": 0
      },
      "text/plain": [
       "VBox()"
      ]
     },
     "metadata": {},
     "output_type": "display_data"
    },
    {
     "data": {
      "application/vnd.jupyter.widget-view+json": {
       "model_id": "",
       "version_major": 2,
       "version_minor": 0
      },
      "text/plain": [
       "FloatProgress(value=0.0, bar_style='info', description='Progress:', layout=Layout(height='25px', width='50%'),…"
      ]
     },
     "metadata": {},
     "output_type": "display_data"
    },
    {
     "name": "stdout",
     "output_type": "stream",
     "text": [
      "0.20093058576376444"
     ]
    }
   ],
   "source": [
    "weightedPrecision=MulticlassClassificationEvaluator().setMetricName(\"weightedPrecision\").evaluate(validpredicts)"
   ]
  },
  {
   "cell_type": "markdown",
   "metadata": {},
   "source": [
    "# H2O"
   ]
  },
  {
   "cell_type": "code",
   "execution_count": 30,
   "metadata": {
    "scrolled": true
   },
   "outputs": [
    {
     "data": {
      "application/vnd.jupyter.widget-view+json": {
       "model_id": "b20c454de93f42279eb41d4f2d53d4f9",
       "version_major": 2,
       "version_minor": 0
      },
      "text/plain": [
       "VBox()"
      ]
     },
     "metadata": {},
     "output_type": "display_data"
    },
    {
     "data": {
      "application/vnd.jupyter.widget-view+json": {
       "model_id": "",
       "version_major": 2,
       "version_minor": 0
      },
      "text/plain": [
       "FloatProgress(value=0.0, bar_style='info', description='Progress:', layout=Layout(height='25px', width='50%'),…"
      ]
     },
     "metadata": {},
     "output_type": "display_data"
    },
    {
     "name": "stderr",
     "output_type": "stream",
     "text": [
      "Package already installed for current Spark context!\n",
      "Traceback (most recent call last):\n",
      "  File \"/usr/lib/spark/python/lib/pyspark.zip/pyspark/context.py\", line 1110, in install_pypi_package\n",
      "    raise ValueError(\"Package already installed for current Spark context!\")\n",
      "ValueError: Package already installed for current Spark context!\n",
      "\n"
     ]
    }
   ],
   "source": [
    "sc.install_pypi_package('h2o-pysparkling-2.4')"
   ]
  },
  {
   "cell_type": "code",
   "execution_count": 31,
   "metadata": {
    "scrolled": true
   },
   "outputs": [
    {
     "data": {
      "application/vnd.jupyter.widget-view+json": {
       "model_id": "63a68ddfa98a4cc19dfde316113fcd37",
       "version_major": 2,
       "version_minor": 0
      },
      "text/plain": [
       "VBox()"
      ]
     },
     "metadata": {},
     "output_type": "display_data"
    },
    {
     "data": {
      "application/vnd.jupyter.widget-view+json": {
       "model_id": "",
       "version_major": 2,
       "version_minor": 0
      },
      "text/plain": [
       "FloatProgress(value=0.0, bar_style='info', description='Progress:', layout=Layout(height='25px', width='50%'),…"
      ]
     },
     "metadata": {},
     "output_type": "display_data"
    },
    {
     "name": "stdout",
     "output_type": "stream",
     "text": [
      "Collecting h2o\n",
      "  Downloading https://files.pythonhosted.org/packages/6b/d1/aaa74df4716b2454d6034261807ef3855d014862c801f0e9b803b568006d/h2o-3.28.0.1.tar.gz (123.4MB)\n",
      "Requirement already satisfied: requests in /mnt/tmp/1579133929596-0/lib/python3.6/site-packages (from h2o) (2.22.0)\n",
      "Requirement already satisfied: tabulate in /mnt/tmp/1579133929596-0/lib/python3.6/site-packages (from h2o) (0.8.6)\n",
      "Requirement already satisfied: future in /mnt/tmp/1579133929596-0/lib/python3.6/site-packages (from h2o) (0.18.2)\n",
      "Requirement already satisfied: colorama>=0.3.8 in /mnt/tmp/1579133929596-0/lib/python3.6/site-packages (from h2o) (0.4.3)\n",
      "Requirement already satisfied: idna<2.9,>=2.5 in /mnt/tmp/1579133929596-0/lib/python3.6/site-packages (from requests->h2o) (2.8)\n",
      "Requirement already satisfied: certifi>=2017.4.17 in /mnt/tmp/1579133929596-0/lib/python3.6/site-packages (from requests->h2o) (2019.11.28)\n",
      "Requirement already satisfied: urllib3!=1.25.0,!=1.25.1,<1.26,>=1.21.1 in /mnt/tmp/1579133929596-0/lib/python3.6/site-packages (from requests->h2o) (1.25.7)\n",
      "Requirement already satisfied: chardet<3.1.0,>=3.0.2 in /mnt/tmp/1579133929596-0/lib/python3.6/site-packages (from requests->h2o) (3.0.4)\n",
      "Building wheels for collected packages: h2o\n",
      "  Building wheel for h2o (setup.py): started\n",
      "  Building wheel for h2o (setup.py): finished with status 'done'\n",
      "  Created wheel for h2o: filename=h2o-3.28.0.1-py2.py3-none-any.whl size=123410554 sha256=131b484e78dd5470e077197a10e6c693dd5d1203d3e85df0ceab2f3fbc4c2750\n",
      "  Stored in directory: /var/lib/livy/.cache/pip/wheels/ff/82/f4/3fe9c895b93c53b25ae44dc44aa54dad571c711f48bc485fe9\n",
      "Successfully built h2o\n",
      "Installing collected packages: h2o\n",
      "Successfully installed h2o-3.28.0.1"
     ]
    }
   ],
   "source": [
    "sc.install_pypi_package('h2o')"
   ]
  },
  {
   "cell_type": "code",
   "execution_count": 33,
   "metadata": {},
   "outputs": [
    {
     "data": {
      "application/vnd.jupyter.widget-view+json": {
       "model_id": "7618f00eccb44398a5691097703c6341",
       "version_major": 2,
       "version_minor": 0
      },
      "text/plain": [
       "VBox()"
      ]
     },
     "metadata": {},
     "output_type": "display_data"
    },
    {
     "data": {
      "application/vnd.jupyter.widget-view+json": {
       "model_id": "",
       "version_major": 2,
       "version_minor": 0
      },
      "text/plain": [
       "FloatProgress(value=0.0, bar_style='info', description='Progress:', layout=Layout(height='25px', width='50%'),…"
      ]
     },
     "metadata": {},
     "output_type": "display_data"
    }
   ],
   "source": [
    "from pysparkling import *\n",
    "from h2o.estimators.deeplearning import H2ODeepLearningEstimator\n",
    "import h2o"
   ]
  },
  {
   "cell_type": "code",
   "execution_count": 17,
   "metadata": {
    "scrolled": true
   },
   "outputs": [
    {
     "data": {
      "application/vnd.jupyter.widget-view+json": {
       "model_id": "c2a19b515233460e842707f195447e84",
       "version_major": 2,
       "version_minor": 0
      },
      "text/plain": [
       "VBox()"
      ]
     },
     "metadata": {},
     "output_type": "display_data"
    },
    {
     "data": {
      "application/vnd.jupyter.widget-view+json": {
       "model_id": "",
       "version_major": 2,
       "version_minor": 0
      },
      "text/plain": [
       "FloatProgress(value=0.0, bar_style='info', description='Progress:', layout=Layout(height='25px', width='50%'),…"
      ]
     },
     "metadata": {},
     "output_type": "display_data"
    },
    {
     "name": "stdout",
     "output_type": "stream",
     "text": [
      "Checking whether there is an H2O instance running at http://localhost:54321 ..... not found.\n",
      "Attempting to start a local H2O server...\n",
      "  Java Version: openjdk version \"1.8.0_232\"; OpenJDK Runtime Environment (build 1.8.0_232-b09); OpenJDK 64-Bit Server VM (build 25.232-b09, mixed mode)\n",
      "  Starting server from /mnt/tmp/1579129711570-0/lib/python3.6/site-packages/h2o/backend/bin/h2o.jar\n",
      "  Ice root: /tmp/tmpzw9_rdem\n",
      "  JVM stdout: /tmp/tmpzw9_rdem/h2o_livy_started_from_python.out\n",
      "  JVM stderr: /tmp/tmpzw9_rdem/h2o_livy_started_from_python.err\n",
      "  Server is running at http://127.0.0.1:54321\n",
      "Connecting to H2O server at http://127.0.0.1:54321 ... successful.\n",
      "--------------------------  ------------------------------------------------------------------\n",
      "H2O cluster uptime:         01 secs\n",
      "H2O cluster timezone:       Etc/UCT\n",
      "H2O data parsing timezone:  UTC\n",
      "H2O cluster version:        3.28.0.1\n",
      "H2O cluster version age:    30 days\n",
      "H2O cluster name:           H2O_from_python_livy_1q2kp0\n",
      "H2O cluster total nodes:    1\n",
      "H2O cluster free memory:    3.382 Gb\n",
      "H2O cluster total cores:    4\n",
      "H2O cluster allowed cores:  4\n",
      "H2O cluster status:         accepting new members, healthy\n",
      "H2O connection url:         http://127.0.0.1:54321\n",
      "H2O connection proxy:       {'http': None, 'https': None}\n",
      "H2O internal security:      False\n",
      "H2O API Extensions:         Amazon S3, XGBoost, Algos, AutoML, Core V3, TargetEncoder, Core V4\n",
      "Python version:             3.6.8 final\n",
      "--------------------------  ------------------------------------------------------------------"
     ]
    }
   ],
   "source": [
    "h2o.init()"
   ]
  },
  {
   "cell_type": "code",
   "execution_count": 34,
   "metadata": {},
   "outputs": [
    {
     "data": {
      "application/vnd.jupyter.widget-view+json": {
       "model_id": "ea58a42aef5742c8b08155753931672c",
       "version_major": 2,
       "version_minor": 0
      },
      "text/plain": [
       "VBox()"
      ]
     },
     "metadata": {},
     "output_type": "display_data"
    },
    {
     "data": {
      "application/vnd.jupyter.widget-view+json": {
       "model_id": "",
       "version_major": 2,
       "version_minor": 0
      },
      "text/plain": [
       "FloatProgress(value=0.0, bar_style='info', description='Progress:', layout=Layout(height='25px', width='50%'),…"
      ]
     },
     "metadata": {},
     "output_type": "display_data"
    },
    {
     "name": "stderr",
     "output_type": "stream",
     "text": [
      "'Unsupported argument: (spark.dynamicAllocation.enabled,true)'\n",
      "Traceback (most recent call last):\n",
      "  File \"/tmp/1579133929596-0/local/lib/python3.6/site-packages/ai/h2o/sparkling/H2OContext.py\", line 135, in getOrCreate\n",
      "    jhc = jvm.org.apache.spark.h2o.JavaH2OContext.getOrCreate(jspark_session, selected_conf._jconf)\n",
      "  File \"/usr/lib/spark/python/lib/py4j-0.10.7-src.zip/py4j/java_gateway.py\", line 1257, in __call__\n",
      "    answer, self.gateway_client, self.target_id, self.name)\n",
      "  File \"/usr/lib/spark/python/lib/pyspark.zip/pyspark/sql/utils.py\", line 79, in deco\n",
      "    raise IllegalArgumentException(s.split(': ', 1)[1], stackTrace)\n",
      "pyspark.sql.utils.IllegalArgumentException: 'Unsupported argument: (spark.dynamicAllocation.enabled,true)'\n",
      "\n"
     ]
    }
   ],
   "source": [
    "hc = H2OContext.getOrCreate(ss)"
   ]
  },
  {
   "cell_type": "code",
   "execution_count": 18,
   "metadata": {},
   "outputs": [
    {
     "data": {
      "application/vnd.jupyter.widget-view+json": {
       "model_id": "a3487bf413bf49c3b6d5327d7da1c3f6",
       "version_major": 2,
       "version_minor": 0
      },
      "text/plain": [
       "VBox()"
      ]
     },
     "metadata": {},
     "output_type": "display_data"
    },
    {
     "data": {
      "application/vnd.jupyter.widget-view+json": {
       "model_id": "",
       "version_major": 2,
       "version_minor": 0
      },
      "text/plain": [
       "FloatProgress(value=0.0, bar_style='info', description='Progress:', layout=Layout(height='25px', width='50%'),…"
      ]
     },
     "metadata": {},
     "output_type": "display_data"
    },
    {
     "name": "stderr",
     "output_type": "stream",
     "text": [
      "HTTP 500 Server Error:\n",
      "Server error water.util.DistributedException:\n",
      "  Error: DistributedException from /127.0.0.1:54321: 'This H2O node couldn't find the file(s) to parse. Please check files and/or working directories.'\n",
      "  Request: None\n",
      "\n",
      "Traceback (most recent call last):\n",
      "  File \"/tmp/1579129711570-0/local/lib/python3.6/site-packages/h2o/h2o.py\", line 476, in import_file\n",
      "    skipped_columns, custom_non_data_line_markers)\n",
      "  File \"/tmp/1579129711570-0/local/lib/python3.6/site-packages/h2o/frame.py\", line 430, in _import_parse\n",
      "    skipped_columns, custom_non_data_line_markers)\n",
      "  File \"/tmp/1579129711570-0/local/lib/python3.6/site-packages/h2o/frame.py\", line 444, in _parse\n",
      "    skipped_columns, custom_non_data_line_markers)\n",
      "  File \"/tmp/1579129711570-0/local/lib/python3.6/site-packages/h2o/h2o.py\", line 769, in parse_setup\n",
      "    j = api(\"POST /3/ParseSetup\", data=kwargs)\n",
      "  File \"/tmp/1579129711570-0/local/lib/python3.6/site-packages/h2o/h2o.py\", line 123, in api\n",
      "    return h2oconn.request(endpoint, data=data, json=json, filename=filename, save_to=save_to)\n",
      "  File \"/tmp/1579129711570-0/local/lib/python3.6/site-packages/h2o/backend/connection.py\", line 478, in request\n",
      "    return self._process_response(resp, save_to)\n",
      "  File \"/tmp/1579129711570-0/local/lib/python3.6/site-packages/h2o/backend/connection.py\", line 829, in _process_response\n",
      "    raise H2OServerError(\"HTTP %d %s:\\n%r\" % (status_code, response.reason, data))\n",
      "h2o.exceptions.H2OServerError: HTTP 500 Server Error:\n",
      "Server error water.util.DistributedException:\n",
      "  Error: DistributedException from /127.0.0.1:54321: 'This H2O node couldn't find the file(s) to parse. Please check files and/or working directories.'\n",
      "  Request: None\n",
      "\n",
      "\n"
     ]
    }
   ],
   "source": [
    "h2o.import_file(\"s3://msds694.proj/data/parquet/final_group\")"
   ]
  }
 ],
 "metadata": {
  "kernelspec": {
   "display_name": "PySpark",
   "language": "",
   "name": "pysparkkernel"
  },
  "language_info": {
   "codemirror_mode": {
    "name": "python",
    "version": 2
   },
   "mimetype": "text/x-python",
   "name": "pyspark",
   "pygments_lexer": "python2"
  }
 },
 "nbformat": 4,
 "nbformat_minor": 2
}
